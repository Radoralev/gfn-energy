{
 "cells": [
  {
   "cell_type": "code",
   "execution_count": 8,
   "metadata": {},
   "outputs": [],
   "source": [
    "import torch\n",
    "import torchani\n",
    "from rdkit import Chem\n",
    "from rdkit.Chem import AllChem\n"
   ]
  },
  {
   "cell_type": "code",
   "execution_count": 9,
   "metadata": {},
   "outputs": [],
   "source": [
    "device = torch.device('cuda' if torch.cuda.is_available() else 'cpu')"
   ]
  },
  {
   "cell_type": "code",
   "execution_count": 4,
   "metadata": {},
   "outputs": [
    {
     "name": "stdout",
     "output_type": "stream",
     "text": [
      "Downloading ANI model parameters ...\n"
     ]
    }
   ],
   "source": [
    "model = torchani.models.ANI2x(periodic_table_index=True).to(device)"
   ]
  },
  {
   "cell_type": "code",
   "execution_count": 17,
   "metadata": {},
   "outputs": [],
   "source": [
    "\n",
    "class TorchANIEnergy:\n",
    "    def __init__(self, model, smiles, batch_size=1):\n",
    "        device = torch.device('cuda' if torch.cuda.is_available() else 'cpu')\n",
    "        self.model = model\n",
    "        self.rdk_mol = Chem.MolFromSmiles(smiles)\n",
    "        self.rdk_mol = Chem.AddHs(rdk_mol)\n",
    "        AllChem.EmbedMolecule(rdk_mol)\n",
    "        self.atomic_numbers = torch.tensor([atom.GetAtomicNum() for atom in self.rdk_mol.GetAtoms()]).to(device)\n",
    "        self.data_ndim = 3 * len(self.atomic_numbers)\n",
    "        self.batch_size = batch_size\n",
    "        self.an_bs = self.atomic_numbers.unsqueeze(0).repeat(self.batch_size, 1)\n",
    "                \n",
    "    def get_energy(self, xyz):\n",
    "        energies = self.model((self.an_bs, xyz)).energies\n",
    "        return energies\n",
    "\n",
    "smiles = 'CCO'\n",
    "rdk_mol = Chem.MolFromSmiles(smiles)\n",
    "rdk_mol = Chem.AddHs(rdk_mol)"
   ]
  },
  {
   "cell_type": "code",
   "execution_count": 18,
   "metadata": {},
   "outputs": [
    {
     "ename": "NameError",
     "evalue": "name 'get_atom_types_from_smiles' is not defined",
     "output_type": "error",
     "traceback": [
      "\u001b[0;31m---------------------------------------------------------------------------\u001b[0m",
      "\u001b[0;31mNameError\u001b[0m                                 Traceback (most recent call last)",
      "Cell \u001b[0;32mIn[18], line 1\u001b[0m\n\u001b[0;32m----> 1\u001b[0m energy \u001b[38;5;241m=\u001b[39m \u001b[43mTorchANIEnergy\u001b[49m\u001b[43m(\u001b[49m\u001b[43mmodel\u001b[49m\u001b[43m,\u001b[49m\u001b[43m \u001b[49m\u001b[38;5;124;43m'\u001b[39;49m\u001b[38;5;124;43mCCO\u001b[39;49m\u001b[38;5;124;43m'\u001b[39;49m\u001b[43m,\u001b[49m\u001b[43m \u001b[49m\u001b[43mbatch_size\u001b[49m\u001b[38;5;241;43m=\u001b[39;49m\u001b[38;5;241;43m1\u001b[39;49m\u001b[43m)\u001b[49m\n",
      "Cell \u001b[0;32mIn[17], line 6\u001b[0m, in \u001b[0;36mTorchANIEnergy.__init__\u001b[0;34m(self, model, smiles, batch_size, solvate)\u001b[0m\n\u001b[1;32m      4\u001b[0m \u001b[38;5;28mself\u001b[39m\u001b[38;5;241m.\u001b[39mmodel \u001b[38;5;241m=\u001b[39m model\n\u001b[1;32m      5\u001b[0m \u001b[38;5;28mself\u001b[39m\u001b[38;5;241m.\u001b[39mmodel\u001b[38;5;241m.\u001b[39meval()\n\u001b[0;32m----> 6\u001b[0m \u001b[38;5;28mself\u001b[39m\u001b[38;5;241m.\u001b[39matomic_numbers, init_pos \u001b[38;5;241m=\u001b[39m \u001b[43mget_atom_types_from_smiles\u001b[49m(smiles, solvate)\n\u001b[1;32m      7\u001b[0m \u001b[38;5;28mself\u001b[39m\u001b[38;5;241m.\u001b[39matomic_numbers \u001b[38;5;241m=\u001b[39m \u001b[38;5;28mself\u001b[39m\u001b[38;5;241m.\u001b[39matomic_numbers\u001b[38;5;241m.\u001b[39mto(device)\n\u001b[1;32m      8\u001b[0m \u001b[38;5;28mself\u001b[39m\u001b[38;5;241m.\u001b[39mdata_ndim \u001b[38;5;241m=\u001b[39m \u001b[38;5;241m3\u001b[39m \u001b[38;5;241m*\u001b[39m \u001b[38;5;28mlen\u001b[39m(\u001b[38;5;28mself\u001b[39m\u001b[38;5;241m.\u001b[39matomic_numbers)\n",
      "\u001b[0;31mNameError\u001b[0m: name 'get_atom_types_from_smiles' is not defined"
     ]
    }
   ],
   "source": [
    "energy = TorchANIEnergy(model, 'CCO', batch_size=1)"
   ]
  },
  {
   "cell_type": "code",
   "execution_count": 11,
   "metadata": {},
   "outputs": [
    {
     "data": {
      "text/plain": [
       "tensor([6, 6, 8, 1, 1, 1, 1, 1, 1], device='cuda:0')"
      ]
     },
     "execution_count": 11,
     "metadata": {},
     "output_type": "execute_result"
    }
   ],
   "source": [
    "energy.atomic_numbers"
   ]
  },
  {
   "cell_type": "code",
   "execution_count": 15,
   "metadata": {},
   "outputs": [],
   "source": [
    "# generate random coordinates in the shape of (n_samples, n_atoms, 3)\n",
    "xyz = torch.rand(1024, len(energy.atomic_numbers), 3).to(device)"
   ]
  },
  {
   "cell_type": "code",
   "execution_count": 16,
   "metadata": {},
   "outputs": [
    {
     "name": "stdout",
     "output_type": "stream",
     "text": [
      "Time: 0.028456449508666992\n",
      "Energies: tensor([-206.8431, -205.3601, -196.7456,  ..., -201.6755, -184.8934,\n",
      "        -201.6019], device='cuda:0', dtype=torch.float64,\n",
      "       grad_fn=<AddBackward0>)\n"
     ]
    }
   ],
   "source": [
    "import time\n",
    "now = time.time()\n",
    "energies = energy.get_energy(xyz)\n",
    "print('Time:', time.time() - now)\n",
    "print('Energies:', energies)"
   ]
  },
  {
   "cell_type": "code",
   "execution_count": 2,
   "metadata": {},
   "outputs": [
    {
     "name": "stdout",
     "output_type": "stream",
     "text": [
      "Collecting ogb\n",
      "  Using cached ogb-1.3.6-py3-none-any.whl.metadata (6.2 kB)\n",
      "Requirement already satisfied: torch>=1.6.0 in /home/radoslavralev/miniconda3/envs/gfn-diffusion/lib/python3.8/site-packages (from ogb) (2.3.0)\n",
      "Requirement already satisfied: numpy>=1.16.0 in /home/radoslavralev/miniconda3/envs/gfn-diffusion/lib/python3.8/site-packages (from ogb) (1.24.3)\n",
      "Requirement already satisfied: tqdm>=4.29.0 in /home/radoslavralev/miniconda3/envs/gfn-diffusion/lib/python3.8/site-packages (from ogb) (4.66.2)\n",
      "Requirement already satisfied: scikit-learn>=0.20.0 in /home/radoslavralev/miniconda3/envs/gfn-diffusion/lib/python3.8/site-packages (from ogb) (1.3.2)\n",
      "Requirement already satisfied: pandas>=0.24.0 in /home/radoslavralev/miniconda3/envs/gfn-diffusion/lib/python3.8/site-packages (from ogb) (2.0.3)\n",
      "Requirement already satisfied: six>=1.12.0 in /home/radoslavralev/miniconda3/envs/gfn-diffusion/lib/python3.8/site-packages (from ogb) (1.16.0)\n",
      "Requirement already satisfied: urllib3>=1.24.0 in /home/radoslavralev/miniconda3/envs/gfn-diffusion/lib/python3.8/site-packages (from ogb) (2.1.0)\n",
      "Collecting outdated>=0.2.0 (from ogb)\n",
      "  Using cached outdated-0.2.2-py2.py3-none-any.whl.metadata (4.7 kB)\n",
      "Requirement already satisfied: setuptools>=44 in /home/radoslavralev/miniconda3/envs/gfn-diffusion/lib/python3.8/site-packages (from outdated>=0.2.0->ogb) (68.2.2)\n",
      "Collecting littleutils (from outdated>=0.2.0->ogb)\n",
      "  Using cached littleutils-0.2.2.tar.gz (6.6 kB)\n",
      "  Preparing metadata (setup.py) ... \u001b[?25ldone\n",
      "\u001b[?25hRequirement already satisfied: requests in /home/radoslavralev/miniconda3/envs/gfn-diffusion/lib/python3.8/site-packages (from outdated>=0.2.0->ogb) (2.31.0)\n",
      "Requirement already satisfied: python-dateutil>=2.8.2 in /home/radoslavralev/miniconda3/envs/gfn-diffusion/lib/python3.8/site-packages (from pandas>=0.24.0->ogb) (2.8.2)\n",
      "Requirement already satisfied: pytz>=2020.1 in /home/radoslavralev/miniconda3/envs/gfn-diffusion/lib/python3.8/site-packages (from pandas>=0.24.0->ogb) (2024.1)\n",
      "Requirement already satisfied: tzdata>=2022.1 in /home/radoslavralev/miniconda3/envs/gfn-diffusion/lib/python3.8/site-packages (from pandas>=0.24.0->ogb) (2023.3)\n",
      "Requirement already satisfied: scipy>=1.5.0 in /home/radoslavralev/miniconda3/envs/gfn-diffusion/lib/python3.8/site-packages (from scikit-learn>=0.20.0->ogb) (1.10.1)\n",
      "Requirement already satisfied: joblib>=1.1.1 in /home/radoslavralev/miniconda3/envs/gfn-diffusion/lib/python3.8/site-packages (from scikit-learn>=0.20.0->ogb) (1.4.2)\n",
      "Requirement already satisfied: threadpoolctl>=2.0.0 in /home/radoslavralev/miniconda3/envs/gfn-diffusion/lib/python3.8/site-packages (from scikit-learn>=0.20.0->ogb) (3.5.0)\n",
      "Requirement already satisfied: filelock in /home/radoslavralev/miniconda3/envs/gfn-diffusion/lib/python3.8/site-packages (from torch>=1.6.0->ogb) (3.13.1)\n",
      "Requirement already satisfied: typing-extensions>=4.8.0 in /home/radoslavralev/miniconda3/envs/gfn-diffusion/lib/python3.8/site-packages (from torch>=1.6.0->ogb) (4.9.0)\n",
      "Requirement already satisfied: sympy in /home/radoslavralev/miniconda3/envs/gfn-diffusion/lib/python3.8/site-packages (from torch>=1.6.0->ogb) (1.12)\n",
      "Requirement already satisfied: networkx in /home/radoslavralev/miniconda3/envs/gfn-diffusion/lib/python3.8/site-packages (from torch>=1.6.0->ogb) (3.1)\n",
      "Requirement already satisfied: jinja2 in /home/radoslavralev/miniconda3/envs/gfn-diffusion/lib/python3.8/site-packages (from torch>=1.6.0->ogb) (3.1.3)\n",
      "Requirement already satisfied: fsspec in /home/radoslavralev/miniconda3/envs/gfn-diffusion/lib/python3.8/site-packages (from torch>=1.6.0->ogb) (2024.3.1)\n",
      "Requirement already satisfied: MarkupSafe>=2.0 in /home/radoslavralev/miniconda3/envs/gfn-diffusion/lib/python3.8/site-packages (from jinja2->torch>=1.6.0->ogb) (2.1.3)\n",
      "Requirement already satisfied: charset-normalizer<4,>=2 in /home/radoslavralev/miniconda3/envs/gfn-diffusion/lib/python3.8/site-packages (from requests->outdated>=0.2.0->ogb) (2.0.4)\n",
      "Requirement already satisfied: idna<4,>=2.5 in /home/radoslavralev/miniconda3/envs/gfn-diffusion/lib/python3.8/site-packages (from requests->outdated>=0.2.0->ogb) (3.4)\n",
      "Requirement already satisfied: certifi>=2017.4.17 in /home/radoslavralev/miniconda3/envs/gfn-diffusion/lib/python3.8/site-packages (from requests->outdated>=0.2.0->ogb) (2024.2.2)\n",
      "Requirement already satisfied: mpmath>=0.19 in /home/radoslavralev/miniconda3/envs/gfn-diffusion/lib/python3.8/site-packages (from sympy->torch>=1.6.0->ogb) (1.3.0)\n",
      "Using cached ogb-1.3.6-py3-none-any.whl (78 kB)\n",
      "Using cached outdated-0.2.2-py2.py3-none-any.whl (7.5 kB)\n",
      "Building wheels for collected packages: littleutils\n",
      "  Building wheel for littleutils (setup.py) ... \u001b[?25ldone\n",
      "\u001b[?25h  Created wheel for littleutils: filename=littleutils-0.2.2-py3-none-any.whl size=7028 sha256=cc2ebed8331ed3aec5de718924d429404a6d2ac57785b36222a247afc7b00ec4\n",
      "  Stored in directory: /home/radoslavralev/.cache/pip/wheels/6a/33/c4/0ef84d7f5568c2823e3d63a6e08988852fb9e4bc822034870a\n",
      "Successfully built littleutils\n",
      "Installing collected packages: littleutils, outdated, ogb\n",
      "Successfully installed littleutils-0.2.2 ogb-1.3.6 outdated-0.2.2\n"
     ]
    }
   ],
   "source": [
    "!pip install ogb"
   ]
  },
  {
   "cell_type": "code",
   "execution_count": null,
   "metadata": {},
   "outputs": [],
   "source": [
    "from ogb.utils import smiles2graph\n",
    "graph = smiles2graph('O1C=C[C@H]([C@H]1O2)c3c2cc(OC)c4c3OC(=O)C5=C4CCC(=O)5')\n",
    "graph"
   ]
  },
  {
   "cell_type": "code",
   "execution_count": 12,
   "metadata": {},
   "outputs": [
    {
     "data": {
      "text/plain": [
       "23"
      ]
     },
     "execution_count": 12,
     "metadata": {},
     "output_type": "execute_result"
    }
   ],
   "source": [
    "graph['num_nodes']"
   ]
  },
  {
   "cell_type": "code",
   "execution_count": 13,
   "metadata": {},
   "outputs": [],
   "source": [
    "# create a (512, 23, 3) random tensor\n",
    "pos = torch.rand(512, 23, 3).to(device)"
   ]
  },
  {
   "cell_type": "code",
   "execution_count": 14,
   "metadata": {},
   "outputs": [],
   "source": [
    "graph['pos'] = pos"
   ]
  },
  {
   "cell_type": "code",
   "execution_count": 17,
   "metadata": {},
   "outputs": [
    {
     "ename": "ModuleNotFoundError",
     "evalue": "No module named 'models'",
     "output_type": "error",
     "traceback": [
      "\u001b[0;31m---------------------------------------------------------------------------\u001b[0m",
      "\u001b[0;31mModuleNotFoundError\u001b[0m                       Traceback (most recent call last)",
      "Cell \u001b[0;32mIn[17], line 1\u001b[0m\n\u001b[0;32m----> 1\u001b[0m \u001b[38;5;28;01mfrom\u001b[39;00m \u001b[38;5;21;01mmodels\u001b[39;00m \u001b[38;5;28;01mimport\u001b[39;00m MACEModel\n",
      "\u001b[0;31mModuleNotFoundError\u001b[0m: No module named 'models'"
     ]
    }
   ],
   "source": [
    "from models import MACEModel"
   ]
  },
  {
   "cell_type": "code",
   "execution_count": null,
   "metadata": {},
   "outputs": [],
   "source": []
  }
 ],
 "metadata": {
  "kernelspec": {
   "display_name": "gfn-diffusion",
   "language": "python",
   "name": "python3"
  },
  "language_info": {
   "codemirror_mode": {
    "name": "ipython",
    "version": 3
   },
   "file_extension": ".py",
   "mimetype": "text/x-python",
   "name": "python",
   "nbconvert_exporter": "python",
   "pygments_lexer": "ipython3",
   "version": "3.8.19"
  }
 },
 "nbformat": 4,
 "nbformat_minor": 2
}

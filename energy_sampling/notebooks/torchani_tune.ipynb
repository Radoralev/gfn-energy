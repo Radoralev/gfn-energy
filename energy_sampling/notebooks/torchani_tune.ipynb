{
 "cells": [
  {
   "cell_type": "code",
   "execution_count": 1,
   "metadata": {},
   "outputs": [],
   "source": [
    "%load_ext autoreload\n",
    "%autoreload 2\n",
    "from torch_geometric.data import Data, Batch\n",
    "from ogb.utils.features import (atom_to_feature_vector,\n",
    " bond_to_feature_vector) \n",
    "from rdkit import Chem\n",
    "from rdkit.Chem import rdDetermineBonds\n",
    "import numpy as np\n",
    "import torch\n",
    "import os \n",
    "import sys"
   ]
  },
  {
   "cell_type": "code",
   "execution_count": 2,
   "metadata": {},
   "outputs": [],
   "source": [
    "def get_mol_objects(filename):\n",
    "    mol_list = []\n",
    "    energy_list = []\n",
    "   # energies = \n",
    "    with open(filename, \"r\") as f:\n",
    "        lines = f.readlines()\n",
    "        file_str  = \"\".join(lines)\n",
    "        atom_num = lines[0]\n",
    "    xyz_list = file_str.split(atom_num)[1:]\n",
    "    for i in range(len(xyz_list)):\n",
    "        x = Chem.MolFromXYZBlock(f'{atom_num.strip()}\\n' + xyz_list[i])\n",
    "        Chem.rdDetermineBonds.DetermineConnectivity(x)\n",
    "        energy = float(xyz_list[i].split('\\n')[0].strip())\n",
    "        energy_list.append(energy)\n",
    "        mol_list.append(x)\n",
    "    return mol_list, energy_list"
   ]
  },
  {
   "cell_type": "code",
   "execution_count": 3,
   "metadata": {},
   "outputs": [],
   "source": [
    "import contextlib\n",
    "import os\n",
    "import re\n",
    "import subprocess\n",
    "import warnings\n",
    "\n",
    "def _get_energy(file):\n",
    "    normal_termination = False\n",
    "    with open(file) as f:\n",
    "        for l in f:\n",
    "            if \"TOTAL ENERGY\" in l:\n",
    "                try:\n",
    "                    energy = float(re.search(r\"[+-]?(?:\\d*\\.)?\\d+\", l).group())\n",
    "                except:\n",
    "                    return np.nan\n",
    "            if \"normal termination of xtb\" in l:\n",
    "                normal_termination = True\n",
    "    if normal_termination:\n",
    "        return energy\n",
    "    else:\n",
    "        return np.nan\n",
    "\n",
    "def run_gfn_xtb(\n",
    "    filepath,\n",
    "    filename,\n",
    "    gfn_version=\"gfnff\",\n",
    "    opt=False,\n",
    "    gfn_xtb_config: str = None,\n",
    "    remove_scratch=True,\n",
    "):\n",
    "    \"\"\"\n",
    "    Runs GFN_XTB/FF given a directory and either a coord file or all coord files will be run\n",
    "\n",
    "    :param filepath: Directory containing the coord file\n",
    "    :param filename: if given, the specific coord file to run\n",
    "    :param gfn_version: GFN_xtb version (default is 2)\n",
    "    :param opt: optimization or single point (default is opt)\n",
    "    :param gfn_xtb_config: additional xtb config (default is None)\n",
    "    :param remove_scratch: remove xtb files\n",
    "    :return:\n",
    "    \"\"\"\n",
    "    xyz_file = os.path.join(filepath, filename)\n",
    "\n",
    "    # optimization vs single point\n",
    "    if opt:\n",
    "        opt = \"--opt\"\n",
    "    else:\n",
    "        opt = \"\"\n",
    "\n",
    "    # cd to filepath\n",
    "    starting_dir = os.getcwd()\n",
    "    os.chdir(filepath)\n",
    "\n",
    "    file_name = str(xyz_file.split(\".\")[0])\n",
    "    cmd = \"xtb --{} {} {} {}\".format(\n",
    "        str(gfn_version), xyz_file, opt, str(gfn_xtb_config or \"\")\n",
    "    )\n",
    "\n",
    "    # run XTB\n",
    "    with open(file_name + \".out\", \"w\") as fd:\n",
    "        subprocess.run(cmd, shell=True, stdout=fd, stderr=subprocess.STDOUT)\n",
    "\n",
    "    # check XTB results\n",
    "    if os.path.isfile(os.path.join(filepath, \"NOT_CONVERGED\")):\n",
    "        # optimization not converged\n",
    "        warnings.warn(\n",
    "            \"xtb --{} for {} is not converged, using last optimized step instead; proceed with caution\".format(\n",
    "                str(gfn_version), file_name\n",
    "            )\n",
    "        )\n",
    "\n",
    "        # remove files\n",
    "        if remove_scratch:\n",
    "            os.remove(os.path.join(filepath, \"NOT_CONVERGED\"))\n",
    "            os.remove(os.path.join(filepath, \"xtblast.xyz\"))\n",
    "            os.remove(os.path.join(filepath, file_name + \".out\"))\n",
    "        energy = np.nan\n",
    "\n",
    "    elif opt and not os.path.isfile(os.path.join(filepath, \"xtbopt.xyz\")):\n",
    "        # other abnormal optimization convergence\n",
    "        warnings.warn(\n",
    "            \"xtb --{} for {} abnormal termination, likely scf issues, using initial geometry instead; proceed with caution\".format(\n",
    "                str(gfn_version), file_name\n",
    "            )\n",
    "        )\n",
    "        if remove_scratch:\n",
    "            os.remove(os.path.join(filepath, file_name + \".out\"))\n",
    "        energy = np.nan\n",
    "\n",
    "    else:\n",
    "        # normal convergence\n",
    "        # get energy\n",
    "        energy = _get_energy(file_name + \".out\")\n",
    "        if remove_scratch:\n",
    "            with contextlib.suppress(FileNotFoundError):\n",
    "                os.remove(os.path.join(filepath, file_name + \".out\"))\n",
    "                os.remove(os.path.join(filepath, \"gfnff_charges\"))\n",
    "                os.remove(os.path.join(filepath, \"gfnff_adjacency\"))\n",
    "                os.remove(os.path.join(filepath, \"gfnff_topo\"))\n",
    "                os.remove(os.path.join(filepath, \"xtbopt.log\"))\n",
    "                os.remove(os.path.join(filepath, \"xtbopt.xyz\"))\n",
    "                os.remove(os.path.join(filepath, \"xtbtopo.mol\"))\n",
    "                os.remove(os.path.join(filepath, \"wbo\"))\n",
    "                os.remove(os.path.join(filepath, \"charges\"))\n",
    "                os.remove(os.path.join(filepath, \"xtbrestart\"))\n",
    "    os.chdir(starting_dir)\n",
    "    return energy"
   ]
  },
  {
   "cell_type": "code",
   "execution_count": 4,
   "metadata": {},
   "outputs": [
    {
     "data": {
      "text/plain": [
       "'/home/radoslavralev/Documents/Thesis/gfn-diffusion/energy_sampling/notebooks/conformers/molecule_0/vacuum'"
      ]
     },
     "execution_count": 4,
     "metadata": {},
     "output_type": "execute_result"
    }
   ],
   "source": [
    "def get_mol_path(mol_idx, solvation=False):\n",
    "    if solvation:\n",
    "        return os.path.join(os.getcwd(), 'conformers', f'molecule_{mol_idx}', 'solvation')\n",
    "    else:\n",
    "        return os.path.join(os.getcwd(), 'conformers', f'molecule_{mol_idx}', 'vacuum')\n",
    "get_mol_path(0)"
   ]
  },
  {
   "cell_type": "code",
   "execution_count": 5,
   "metadata": {},
   "outputs": [
    {
     "data": {
      "text/plain": [
       "torch.Size([32, 23, 3])"
      ]
     },
     "execution_count": 5,
     "metadata": {},
     "output_type": "execute_result"
    }
   ],
   "source": [
    "torch.ones(32, 69).reshape(-1, 23, 3).shape"
   ]
  },
  {
   "cell_type": "code",
   "execution_count": 6,
   "metadata": {},
   "outputs": [],
   "source": [
    "def xyz_mol2graph(xyz_mol):\n",
    "    \"\"\"\n",
    "    Converts SMILES string to graph Data object\n",
    "    :input: SMILES string (str)\n",
    "    :return: graph object\n",
    "    \"\"\"\n",
    "\n",
    "    mol = xyz_mol\n",
    "    mol = Chem.AddHs(mol)\n",
    "    #mol = Chem.RemoveHs(mol)\n",
    "    pos = mol.GetConformer().GetPositions()\n",
    "    #print(mol)\n",
    "    # atoms\n",
    "    atom_features_list = []\n",
    "    for atom in mol.GetAtoms():\n",
    "        atom_features_list.append([atom.GetAtomicNum()])\n",
    "    x = np.array(atom_features_list, dtype = np.int64)\n",
    "\n",
    "    # bonds\n",
    "    num_bond_features = 3  # bond type, bond stereo, is_conjugated\n",
    "    if len(mol.GetBonds()) > 0: # mol has bonds\n",
    "        edges_list = []\n",
    "        edge_features_list = []\n",
    "        for bond in mol.GetBonds():\n",
    "            i = bond.GetBeginAtomIdx()\n",
    "            j = bond.GetEndAtomIdx()\n",
    "\n",
    "            edge_feature = bond_to_feature_vector(bond)\n",
    "\n",
    "            # add edges in both directions\n",
    "            edges_list.append((i, j))\n",
    "            edge_features_list.append(edge_feature)\n",
    "            edges_list.append((j, i))\n",
    "            edge_features_list.append(edge_feature)\n",
    "\n",
    "        # data.edge_index: Graph connectivity in COO format with shape [2, num_edges]\n",
    "        edge_index = np.array(edges_list, dtype = np.int64).T\n",
    "\n",
    "        # data.edge_attr: Edge feature matrix with shape [num_edges, num_edge_features]\n",
    "        edge_attr = np.array(edge_features_list, dtype = np.int64)\n",
    "\n",
    "    else:   # mol has no bonds\n",
    "        print('Mol has no bonds :()')\n",
    "        edge_index = np.empty((2, 0), dtype = np.int64)\n",
    "        edge_attr = np.empty((0, num_bond_features), dtype = np.int64)\n",
    "\n",
    "    graph = dict()\n",
    "    graph['edge_index'] = edge_index\n",
    "    graph['edge_feat'] = edge_attr\n",
    "    graph['node_feat'] = x\n",
    "    graph['pos'] = pos\n",
    "    graph['num_nodes'] = len(x)\n",
    "    graph['num_bonds'] = len(mol.GetBonds())\n",
    "\n",
    "    return graph "
   ]
  },
  {
   "cell_type": "code",
   "execution_count": 7,
   "metadata": {},
   "outputs": [],
   "source": [
    "def prep_input(graph, pos=None, device=None):\n",
    "    datalist = []\n",
    "    for xyz in pos:\n",
    "        if pos is not None:\n",
    "            graph['pos'] = xyz  \n",
    "        #print('Number of atoms:', graph['node_feat'].shape[0])\n",
    "        data = Data(\n",
    "            atoms=torch.from_numpy(graph['node_feat'][:, 0]), \n",
    "            edge_index=torch.from_numpy(graph['edge_index']), \n",
    "            edge_attr=torch.from_numpy(graph['edge_feat']), \n",
    "            pos=graph['pos'],).to(device)\n",
    "        data.validate(raise_on_error=True)\n",
    "        datalist.append(data)\n",
    "    #batch = Batch.from_data_list(datalist).to(device)\n",
    "    return datalist"
   ]
  },
  {
   "cell_type": "code",
   "execution_count": 8,
   "metadata": {},
   "outputs": [],
   "source": [
    "def extract_graphs(filename):\n",
    "    mol_objects, mol_ens = get_mol_objects(filename)\n",
    "    datalist = []\n",
    "    for mol, en in zip(mol_objects, mol_ens):\n",
    "        graph = xyz_mol2graph(mol)\n",
    "        if graph['num_bonds'] == 0:\n",
    "            continue\n",
    "        data = Data(\n",
    "            atoms=torch.from_numpy(graph['node_feat'][:, 0]), \n",
    "            edge_index=torch.from_numpy(graph['edge_index']), \n",
    "            edge_attr=torch.from_numpy(graph['edge_feat']), \n",
    "            pos=torch.from_numpy(graph['pos']),\n",
    "            y=torch.tensor(en))\n",
    "        data.validate(raise_on_error=True)\n",
    "        datalist.append(data)\n",
    "    return datalist"
   ]
  },
  {
   "cell_type": "code",
   "execution_count": 9,
   "metadata": {},
   "outputs": [
    {
     "name": "stdout",
     "output_type": "stream",
     "text": [
      "-5.070985140121123\n",
      "-2.717450109829989\n",
      "-0.7029199965511594\n",
      "-1.9523127350697063\n",
      "-0.700240312316485\n",
      "-3.3073722504625738\n",
      "-0.003604080517829243\n",
      "-0.0033940972884697737\n",
      "-1.7962577726122022\n",
      "-2.7146895664696427\n",
      "-3.6762836631174647\n"
     ]
    }
   ],
   "source": [
    "# calculate free energy for all pairs of conformers\n",
    "\n",
    "def solvation_en(index=0):\n",
    "    solvent_dir = os.path.join('../..', 'conformation_sampling', 'conformers', f'molecule_{index}', 'solvation', 'crest_conformers.xyz')\n",
    "    vacuum_dir = os.path.join('../..', 'conformation_sampling', 'conformers', f'molecule_{index}', 'vacuum', 'crest_conformers.xyz')\n",
    "    _, solv_en = get_mol_objects(solvent_dir)\n",
    "    _, vac_en = get_mol_objects(vacuum_dir)\n",
    "    #print(solv_en, vac_en)\n",
    "    # avg_solv_en = np.mean(np.exp(np.array(solv_en)))\n",
    "    # avg_vac_en = np.mean(np.exp(np.array(vac_en))) \n",
    "    # free_en = avg_vac_en - avg_solv_en\n",
    "    l = min(len(solv_en), len(vac_en))\n",
    "    free_en = -1/627.583*np.logaddexp.reduce(-(np.array(solv_en[:l])-np.array(vac_en[:l])) * 627.503) - np.log(l)\n",
    "    return free_en\n",
    "    \n",
    "for i in range(600):\n",
    "    free_en = solvation_en(i)\n",
    "    if free_en:\n",
    "        print(free_en)\n",
    "    if i == 10:\n",
    "        break\n",
    "    \n",
    "    "
   ]
  },
  {
   "cell_type": "code",
   "execution_count": 10,
   "metadata": {},
   "outputs": [],
   "source": [
    "solvent_data = []\n",
    "vacuum_data = []\n",
    "for dir in os.listdir(os.path.join(os.getcwd(),'..', '..', 'conformation_sampling', 'conformers')):\n",
    "    solvent_dir = os.path.join(os.getcwd(), '..', '..','conformation_sampling', 'conformers', dir, 'solvation', 'crest_conformers.xyz')\n",
    "    vacuum_dir = os.path.join(os.getcwd(),'..', '..','conformation_sampling', 'conformers', dir, 'vacuum', 'crest_conformers.xyz')\n",
    "    solvent_graphs = extract_graphs(solvent_dir)\n",
    "    vacuum_graphs = extract_graphs(vacuum_dir)\n",
    "    solvent_data.extend(solvent_graphs)\n",
    "    vacuum_data.extend(vacuum_graphs)"
   ]
  },
  {
   "cell_type": "code",
   "execution_count": 11,
   "metadata": {},
   "outputs": [
    {
     "data": {
      "text/plain": [
       "{'C': 397716,\n",
       " 'O': 81001,\n",
       " 'H': 796336,\n",
       " 'N': 8659,\n",
       " 'Cl': 4919,\n",
       " 'F': 1495,\n",
       " 'I': 309,\n",
       " 'Br': 888,\n",
       " 'S': 23004,\n",
       " 'P': 11046}"
      ]
     },
     "execution_count": 11,
     "metadata": {},
     "output_type": "execute_result"
    }
   ],
   "source": [
    "atom_counts = {}\n",
    "chemical_letters = {1: 'H', 6: 'C', 7: 'N', 8: 'O', 9: 'F', 15: 'P', 16: 'S', 17: 'Cl', 35: 'Br', 53: 'I'}\n",
    "\n",
    "for v in solvent_data:\n",
    "    atoms = v.atoms.tolist()\n",
    "    for atom in atoms:\n",
    "        atom_type = chemical_letters[atom]\n",
    "        if atom_type in atom_counts:\n",
    "            atom_counts[atom_type] += 1\n",
    "        else:\n",
    "            atom_counts[atom_type] = 1\n",
    "\n",
    "atom_counts"
   ]
  },
  {
   "cell_type": "code",
   "execution_count": 67,
   "metadata": {},
   "outputs": [
    {
     "data": {
      "text/plain": [
       "SpeciesConverter()"
      ]
     },
     "execution_count": 67,
     "metadata": {},
     "output_type": "execute_result"
    }
   ],
   "source": [
    "ANI2x.species_converter"
   ]
  },
  {
   "cell_type": "code",
   "execution_count": 12,
   "metadata": {},
   "outputs": [
    {
     "data": {
      "text/plain": [
       "36246"
      ]
     },
     "execution_count": 12,
     "metadata": {},
     "output_type": "execute_result"
    }
   ],
   "source": [
    "# count the number of molecules in solvent_data that have only HCNOFSCl atoms\n",
    "count = 0\n",
    "for v in solvent_data:\n",
    "    atoms = v.atoms.tolist()\n",
    "    atom_types = [chemical_letters[atom] for atom in atoms]\n",
    "    if all(atom in ['H', 'C', 'N', 'O', 'F', 'S', 'Cl'] for atom in atom_types):\n",
    "        count += 1\n",
    "count"
   ]
  },
  {
   "cell_type": "code",
   "execution_count": 13,
   "metadata": {},
   "outputs": [],
   "source": [
    "# select only molecules that have only HCNOFSCl atoms\n",
    "solvent_data = [v for v in solvent_data if all(atom in ['H', 'C', 'N', 'O', 'F', 'S', 'Cl'] for atom in [chemical_letters[atom] for atom in v.atoms.tolist()])]"
   ]
  },
  {
   "cell_type": "code",
   "execution_count": 55,
   "metadata": {},
   "outputs": [],
   "source": [
    "vacuum_data = [v for v in vacuum_data if all(atom in ['H', 'C', 'N', 'O', 'F', 'S', 'Cl'] for atom in [chemical_letters[atom] for atom in v.atoms.tolist()])]"
   ]
  },
  {
   "cell_type": "code",
   "execution_count": 56,
   "metadata": {},
   "outputs": [
    {
     "name": "stdout",
     "output_type": "stream",
     "text": [
      "/home/radoslavralev/miniconda3/envs/gfn-energy/lib/python3.11/site-packages/torchani/resources/\n"
     ]
    }
   ],
   "source": [
    "import torch\n",
    "import torchani\n",
    "import os\n",
    "import math\n",
    "import torch.utils.tensorboard\n",
    "import tqdm\n",
    "import pickle\n",
    "\n",
    "# helper function to convert energy unit from Hartree to kcal/mol\n",
    "from torchani.units import hartree2kcalmol\n",
    "\n",
    "ANI2x = torchani.models.ANI2x(periodic_table_index=True)\n",
    "# device to run the training\n",
    "device = torch.device('cuda' if torch.cuda.is_available() else 'cpu')\n",
    "\n",
    "def iter_data(data_list):\n",
    "    for data in data_list:\n",
    "        species = data.atoms\n",
    "        coordinates = data.pos\n",
    "        energy = data.y\n",
    "        species = [chemical_letters[atom.item()] for atom in species]\n",
    "        ret = {'species': species, 'coordinates': coordinates, 'energies': energy}\n",
    "        yield ret\n",
    "\n",
    "def to_torchani_iterator(data_list):\n",
    "    return torchani.data.TransformableIterable(torchani.data.IterableAdapter(lambda: iter_data(data_list)))\n"
   ]
  },
  {
   "cell_type": "code",
   "execution_count": 57,
   "metadata": {},
   "outputs": [],
   "source": [
    "batch_size = 64\n",
    "\n",
    "species_order = ANI2x.species\n",
    "num_species = len(species_order)\n",
    "aev_computer = ANI2x.aev_computer#torchani.AEVComputer(Rcr, Rca, EtaR, ShfR, EtaA, Zeta, ShfA, ShfZ, num_species)\n",
    "energy_shifter = ANI2x.energy_shifter\n"
   ]
  },
  {
   "cell_type": "code",
   "execution_count": 58,
   "metadata": {},
   "outputs": [
    {
     "name": "stdout",
     "output_type": "stream",
     "text": [
      "Self atomic energies:  tensor([-0.5111, -2.1399, -2.8945, -4.0611, -3.2814, -4.7150, -4.5564],\n",
      "       dtype=torch.float64)\n"
     ]
    }
   ],
   "source": [
    "pickled_dataset_path = 'dataset.pkl'\n",
    "\n",
    "\n",
    "# if os.path.isfile(pickled_dataset_path):\n",
    "#     print(f'Unpickling preprocessed dataset found in {pickled_dataset_path}')\n",
    "#     with open(pickled_dataset_path, 'rb') as f:\n",
    "#         dataset = pickle.load(f)\n",
    "#     training = dataset['training'].collate(batch_size).cache()\n",
    "#     validation = dataset['validation'].collate(batch_size).cache()\n",
    "#     energy_shifter.self_energies = dataset['self_energies'].to(device)\n",
    "# else:\n",
    "training, validation = to_torchani_iterator(vacuum_data)\\\n",
    "                                    .subtract_self_energies(energy_shifter, species_order)\\\n",
    "                                    .species_to_indices(species_order)\\\n",
    "                                    .shuffle()\\\n",
    "                                    .split(0.8, None)\n",
    "with open(pickled_dataset_path, 'wb') as f:\n",
    "    pickle.dump({'training': training,\n",
    "                    'validation': validation,\n",
    "                    'self_energies': energy_shifter.self_energies.cpu()}, f)\n",
    "training = training.collate(batch_size).cache()\n",
    "validation = validation.collate(batch_size).cache()\n",
    "print('Self atomic energies: ', energy_shifter.self_energies)"
   ]
  },
  {
   "cell_type": "code",
   "execution_count": 59,
   "metadata": {},
   "outputs": [
    {
     "name": "stdout",
     "output_type": "stream",
     "text": [
      "Ensemble(\n",
      "  (0-7): 8 x ANIModel(\n",
      "    (H): Sequential(\n",
      "      (0): Linear(in_features=1008, out_features=256, bias=True)\n",
      "      (1): CELU(alpha=0.1)\n",
      "      (2): Linear(in_features=256, out_features=192, bias=True)\n",
      "      (3): CELU(alpha=0.1)\n",
      "      (4): Linear(in_features=192, out_features=160, bias=True)\n",
      "      (5): CELU(alpha=0.1)\n",
      "      (6): Linear(in_features=160, out_features=1, bias=True)\n",
      "    )\n",
      "    (C): Sequential(\n",
      "      (0): Linear(in_features=1008, out_features=224, bias=True)\n",
      "      (1): CELU(alpha=0.1)\n",
      "      (2): Linear(in_features=224, out_features=192, bias=True)\n",
      "      (3): CELU(alpha=0.1)\n",
      "      (4): Linear(in_features=192, out_features=160, bias=True)\n",
      "      (5): CELU(alpha=0.1)\n",
      "      (6): Linear(in_features=160, out_features=1, bias=True)\n",
      "    )\n",
      "    (N): Sequential(\n",
      "      (0): Linear(in_features=1008, out_features=192, bias=True)\n",
      "      (1): CELU(alpha=0.1)\n",
      "      (2): Linear(in_features=192, out_features=160, bias=True)\n",
      "      (3): CELU(alpha=0.1)\n",
      "      (4): Linear(in_features=160, out_features=128, bias=True)\n",
      "      (5): CELU(alpha=0.1)\n",
      "      (6): Linear(in_features=128, out_features=1, bias=True)\n",
      "    )\n",
      "    (O): Sequential(\n",
      "      (0): Linear(in_features=1008, out_features=192, bias=True)\n",
      "      (1): CELU(alpha=0.1)\n",
      "      (2): Linear(in_features=192, out_features=160, bias=True)\n",
      "      (3): CELU(alpha=0.1)\n",
      "      (4): Linear(in_features=160, out_features=128, bias=True)\n",
      "      (5): CELU(alpha=0.1)\n",
      "      (6): Linear(in_features=128, out_features=1, bias=True)\n",
      "    )\n",
      "    (S): Sequential(\n",
      "      (0): Linear(in_features=1008, out_features=160, bias=True)\n",
      "      (1): CELU(alpha=0.1)\n",
      "      (2): Linear(in_features=160, out_features=128, bias=True)\n",
      "      (3): CELU(alpha=0.1)\n",
      "      (4): Linear(in_features=128, out_features=96, bias=True)\n",
      "      (5): CELU(alpha=0.1)\n",
      "      (6): Linear(in_features=96, out_features=1, bias=True)\n",
      "    )\n",
      "    (F): Sequential(\n",
      "      (0): Linear(in_features=1008, out_features=160, bias=True)\n",
      "      (1): CELU(alpha=0.1)\n",
      "      (2): Linear(in_features=160, out_features=128, bias=True)\n",
      "      (3): CELU(alpha=0.1)\n",
      "      (4): Linear(in_features=128, out_features=96, bias=True)\n",
      "      (5): CELU(alpha=0.1)\n",
      "      (6): Linear(in_features=96, out_features=1, bias=True)\n",
      "    )\n",
      "    (Cl): Sequential(\n",
      "      (0): Linear(in_features=1008, out_features=160, bias=True)\n",
      "      (1): CELU(alpha=0.1)\n",
      "      (2): Linear(in_features=160, out_features=128, bias=True)\n",
      "      (3): CELU(alpha=0.1)\n",
      "      (4): Linear(in_features=128, out_features=96, bias=True)\n",
      "      (5): CELU(alpha=0.1)\n",
      "      (6): Linear(in_features=96, out_features=1, bias=True)\n",
      "    )\n",
      "  )\n",
      ")\n"
     ]
    }
   ],
   "source": [
    "nn = ANI2x.neural_networks.to(device)\n",
    "print(nn)"
   ]
  },
  {
   "cell_type": "code",
   "execution_count": 60,
   "metadata": {},
   "outputs": [],
   "source": [
    "model = torchani.nn.Sequential(aev_computer, nn).to(device)"
   ]
  },
  {
   "cell_type": "code",
   "execution_count": 61,
   "metadata": {},
   "outputs": [],
   "source": [
    "AdamW = torch.optim.AdamW(model.parameters(), lr=1e-3)\n",
    "AdamW_scheduler = torch.optim.lr_scheduler.ReduceLROnPlateau(AdamW, factor=0.5, patience=5, threshold=0)"
   ]
  },
  {
   "cell_type": "code",
   "execution_count": 62,
   "metadata": {},
   "outputs": [],
   "source": [
    "latest_checkpoint = 'latest.pt'"
   ]
  },
  {
   "cell_type": "code",
   "execution_count": 63,
   "metadata": {},
   "outputs": [],
   "source": [
    "if os.path.isfile(latest_checkpoint):\n",
    "    checkpoint = torch.load(latest_checkpoint)\n",
    "    nn.load_state_dict(checkpoint['nn'])\n",
    "    AdamW.load_state_dict(checkpoint['AdamW'])\n",
    "    AdamW_scheduler.load_state_dict(checkpoint['AdamW_scheduler'])"
   ]
  },
  {
   "cell_type": "code",
   "execution_count": 64,
   "metadata": {},
   "outputs": [],
   "source": [
    "def validate():\n",
    "    # run validation\n",
    "    mse_sum = torch.nn.MSELoss(reduction='sum')\n",
    "    total_mse = 0.0\n",
    "    count = 0\n",
    "    model.train(False)\n",
    "    with torch.no_grad():\n",
    "        for properties in validation:\n",
    "            species = properties['species'].to(device)\n",
    "            coordinates = properties['coordinates'].to(device).float()\n",
    "            true_energies = properties['energies'].to(device).float()\n",
    "            _, predicted_energies = model((species, coordinates))\n",
    "            total_mse += mse_sum(predicted_energies, true_energies).item()\n",
    "            count += predicted_energies.shape[0]\n",
    "    model.train(True)\n",
    "    return hartree2kcalmol(math.sqrt(total_mse / count))\n"
   ]
  },
  {
   "cell_type": "code",
   "execution_count": 65,
   "metadata": {},
   "outputs": [],
   "source": [
    "tensorboard = torch.utils.tensorboard.SummaryWriter()\n"
   ]
  },
  {
   "cell_type": "code",
   "execution_count": 66,
   "metadata": {},
   "outputs": [
    {
     "name": "stdout",
     "output_type": "stream",
     "text": [
      "training starting from epoch 1\n",
      "RMSE: 101.01377577878378 at epoch 1\n"
     ]
    },
    {
     "name": "stderr",
     "output_type": "stream",
     "text": [
      "epoch 1: 100%|██████████| 442/442 [00:15<00:00, 29.18it/s]\n"
     ]
    },
    {
     "name": "stdout",
     "output_type": "stream",
     "text": [
      "RMSE: 3.89293588957423 at epoch 2\n"
     ]
    },
    {
     "name": "stderr",
     "output_type": "stream",
     "text": [
      "epoch 2: 100%|██████████| 442/442 [00:14<00:00, 29.84it/s]\n"
     ]
    },
    {
     "name": "stdout",
     "output_type": "stream",
     "text": [
      "RMSE: 6.997254509163164 at epoch 3\n"
     ]
    },
    {
     "name": "stderr",
     "output_type": "stream",
     "text": [
      "epoch 3: 100%|██████████| 442/442 [00:14<00:00, 29.65it/s]\n"
     ]
    },
    {
     "name": "stdout",
     "output_type": "stream",
     "text": [
      "RMSE: 4.954335097643003 at epoch 4\n"
     ]
    },
    {
     "name": "stderr",
     "output_type": "stream",
     "text": [
      "epoch 4: 100%|██████████| 442/442 [00:15<00:00, 29.45it/s]\n"
     ]
    },
    {
     "name": "stdout",
     "output_type": "stream",
     "text": [
      "RMSE: 2.172582992088832 at epoch 5\n"
     ]
    },
    {
     "name": "stderr",
     "output_type": "stream",
     "text": [
      "epoch 5: 100%|██████████| 442/442 [00:15<00:00, 29.07it/s]\n"
     ]
    },
    {
     "name": "stdout",
     "output_type": "stream",
     "text": [
      "RMSE: 2.845150646282102 at epoch 6\n"
     ]
    },
    {
     "name": "stderr",
     "output_type": "stream",
     "text": [
      "epoch 6: 100%|██████████| 442/442 [00:15<00:00, 29.41it/s]\n"
     ]
    },
    {
     "name": "stdout",
     "output_type": "stream",
     "text": [
      "RMSE: 5.100510738382582 at epoch 7\n"
     ]
    },
    {
     "name": "stderr",
     "output_type": "stream",
     "text": [
      "epoch 7: 100%|██████████| 442/442 [00:14<00:00, 29.63it/s]\n"
     ]
    },
    {
     "name": "stdout",
     "output_type": "stream",
     "text": [
      "RMSE: 1.1739863846087772 at epoch 8\n"
     ]
    },
    {
     "name": "stderr",
     "output_type": "stream",
     "text": [
      "epoch 8: 100%|██████████| 442/442 [00:15<00:00, 29.37it/s]\n"
     ]
    },
    {
     "name": "stdout",
     "output_type": "stream",
     "text": [
      "RMSE: 3.113753087515694 at epoch 9\n"
     ]
    },
    {
     "name": "stderr",
     "output_type": "stream",
     "text": [
      "epoch 9: 100%|██████████| 442/442 [00:14<00:00, 29.55it/s]\n"
     ]
    },
    {
     "name": "stdout",
     "output_type": "stream",
     "text": [
      "RMSE: 1.116588343382995 at epoch 10\n"
     ]
    },
    {
     "name": "stderr",
     "output_type": "stream",
     "text": [
      "epoch 10: 100%|██████████| 442/442 [00:15<00:00, 29.26it/s]\n"
     ]
    },
    {
     "name": "stdout",
     "output_type": "stream",
     "text": [
      "RMSE: 5.265427607282203 at epoch 11\n"
     ]
    },
    {
     "name": "stderr",
     "output_type": "stream",
     "text": [
      "epoch 11: 100%|██████████| 442/442 [00:15<00:00, 29.36it/s]\n"
     ]
    },
    {
     "name": "stdout",
     "output_type": "stream",
     "text": [
      "RMSE: 2.1433374008347177 at epoch 12\n"
     ]
    },
    {
     "name": "stderr",
     "output_type": "stream",
     "text": [
      "epoch 12: 100%|██████████| 442/442 [00:15<00:00, 28.69it/s]\n"
     ]
    },
    {
     "name": "stdout",
     "output_type": "stream",
     "text": [
      "RMSE: 1.4139769777046318 at epoch 13\n"
     ]
    },
    {
     "name": "stderr",
     "output_type": "stream",
     "text": [
      "epoch 13: 100%|██████████| 442/442 [00:15<00:00, 29.04it/s]\n"
     ]
    },
    {
     "name": "stdout",
     "output_type": "stream",
     "text": [
      "RMSE: 29.22308247343612 at epoch 14\n"
     ]
    },
    {
     "name": "stderr",
     "output_type": "stream",
     "text": [
      "epoch 14: 100%|██████████| 442/442 [00:15<00:00, 29.15it/s]\n"
     ]
    },
    {
     "name": "stdout",
     "output_type": "stream",
     "text": [
      "RMSE: 2.8811220807479345 at epoch 15\n"
     ]
    },
    {
     "name": "stderr",
     "output_type": "stream",
     "text": [
      "epoch 15: 100%|██████████| 442/442 [00:15<00:00, 28.99it/s]\n"
     ]
    },
    {
     "name": "stdout",
     "output_type": "stream",
     "text": [
      "RMSE: 1.5246435340700901 at epoch 16\n"
     ]
    },
    {
     "name": "stderr",
     "output_type": "stream",
     "text": [
      "epoch 16: 100%|██████████| 442/442 [00:15<00:00, 28.81it/s]\n"
     ]
    },
    {
     "name": "stdout",
     "output_type": "stream",
     "text": [
      "RMSE: 1.0642020430142651 at epoch 17\n"
     ]
    },
    {
     "name": "stderr",
     "output_type": "stream",
     "text": [
      "epoch 17: 100%|██████████| 442/442 [00:15<00:00, 29.11it/s]\n"
     ]
    },
    {
     "name": "stdout",
     "output_type": "stream",
     "text": [
      "RMSE: 1.0494452159975038 at epoch 18\n"
     ]
    },
    {
     "name": "stderr",
     "output_type": "stream",
     "text": [
      "epoch 18: 100%|██████████| 442/442 [00:15<00:00, 28.38it/s]\n"
     ]
    },
    {
     "name": "stdout",
     "output_type": "stream",
     "text": [
      "RMSE: 1.013750895121347 at epoch 19\n"
     ]
    },
    {
     "name": "stderr",
     "output_type": "stream",
     "text": [
      "epoch 19: 100%|██████████| 442/442 [00:15<00:00, 28.57it/s]\n"
     ]
    },
    {
     "name": "stdout",
     "output_type": "stream",
     "text": [
      "RMSE: 1.3260028814415854 at epoch 20\n"
     ]
    },
    {
     "name": "stderr",
     "output_type": "stream",
     "text": [
      "epoch 20: 100%|██████████| 442/442 [00:15<00:00, 27.84it/s]\n"
     ]
    },
    {
     "name": "stdout",
     "output_type": "stream",
     "text": [
      "RMSE: 1.6707552101763181 at epoch 21\n"
     ]
    },
    {
     "name": "stderr",
     "output_type": "stream",
     "text": [
      "epoch 21: 100%|██████████| 442/442 [00:15<00:00, 28.55it/s]\n"
     ]
    },
    {
     "name": "stdout",
     "output_type": "stream",
     "text": [
      "RMSE: 1.4106482207034368 at epoch 22\n"
     ]
    },
    {
     "name": "stderr",
     "output_type": "stream",
     "text": [
      "epoch 22: 100%|██████████| 442/442 [00:15<00:00, 27.83it/s]\n"
     ]
    },
    {
     "name": "stdout",
     "output_type": "stream",
     "text": [
      "RMSE: 1.404929433651668 at epoch 23\n"
     ]
    },
    {
     "name": "stderr",
     "output_type": "stream",
     "text": [
      "epoch 23: 100%|██████████| 442/442 [00:16<00:00, 26.94it/s]\n"
     ]
    },
    {
     "name": "stdout",
     "output_type": "stream",
     "text": [
      "RMSE: 1.8751688753375695 at epoch 24\n"
     ]
    },
    {
     "name": "stderr",
     "output_type": "stream",
     "text": [
      "epoch 24: 100%|██████████| 442/442 [00:16<00:00, 26.97it/s]\n"
     ]
    },
    {
     "name": "stdout",
     "output_type": "stream",
     "text": [
      "RMSE: 2.1445795280521978 at epoch 25\n"
     ]
    },
    {
     "name": "stderr",
     "output_type": "stream",
     "text": [
      "epoch 25: 100%|██████████| 442/442 [00:15<00:00, 28.30it/s]\n"
     ]
    },
    {
     "name": "stdout",
     "output_type": "stream",
     "text": [
      "RMSE: 0.8904583497509705 at epoch 26\n"
     ]
    },
    {
     "name": "stderr",
     "output_type": "stream",
     "text": [
      "epoch 26: 100%|██████████| 442/442 [00:15<00:00, 29.09it/s]\n"
     ]
    },
    {
     "name": "stdout",
     "output_type": "stream",
     "text": [
      "RMSE: 1.0895404936865016 at epoch 27\n"
     ]
    },
    {
     "name": "stderr",
     "output_type": "stream",
     "text": [
      "epoch 27: 100%|██████████| 442/442 [00:15<00:00, 29.17it/s]\n"
     ]
    },
    {
     "name": "stdout",
     "output_type": "stream",
     "text": [
      "RMSE: 0.8488081070669322 at epoch 28\n"
     ]
    },
    {
     "name": "stderr",
     "output_type": "stream",
     "text": [
      "epoch 28: 100%|██████████| 442/442 [00:15<00:00, 28.20it/s]\n"
     ]
    },
    {
     "name": "stdout",
     "output_type": "stream",
     "text": [
      "RMSE: 1.0656490513258547 at epoch 29\n"
     ]
    },
    {
     "name": "stderr",
     "output_type": "stream",
     "text": [
      "epoch 29: 100%|██████████| 442/442 [00:16<00:00, 26.82it/s]\n"
     ]
    },
    {
     "name": "stdout",
     "output_type": "stream",
     "text": [
      "RMSE: 2.4811407354081174 at epoch 30\n"
     ]
    },
    {
     "name": "stderr",
     "output_type": "stream",
     "text": [
      "epoch 30: 100%|██████████| 442/442 [00:15<00:00, 27.99it/s]\n"
     ]
    },
    {
     "name": "stdout",
     "output_type": "stream",
     "text": [
      "RMSE: 2.496989961682674 at epoch 31\n"
     ]
    },
    {
     "name": "stderr",
     "output_type": "stream",
     "text": [
      "epoch 31: 100%|██████████| 442/442 [00:15<00:00, 28.73it/s]\n"
     ]
    },
    {
     "name": "stdout",
     "output_type": "stream",
     "text": [
      "RMSE: 2.078021766110859 at epoch 32\n"
     ]
    },
    {
     "name": "stderr",
     "output_type": "stream",
     "text": [
      "epoch 32: 100%|██████████| 442/442 [00:15<00:00, 29.05it/s]\n"
     ]
    },
    {
     "name": "stdout",
     "output_type": "stream",
     "text": [
      "RMSE: 1.698058521819944 at epoch 33\n"
     ]
    },
    {
     "name": "stderr",
     "output_type": "stream",
     "text": [
      "epoch 33: 100%|██████████| 442/442 [00:16<00:00, 26.22it/s]\n"
     ]
    },
    {
     "name": "stdout",
     "output_type": "stream",
     "text": [
      "RMSE: 1.2743277512645481 at epoch 34\n"
     ]
    },
    {
     "name": "stderr",
     "output_type": "stream",
     "text": [
      "epoch 34: 100%|██████████| 442/442 [00:16<00:00, 26.97it/s]\n"
     ]
    },
    {
     "name": "stdout",
     "output_type": "stream",
     "text": [
      "RMSE: 0.7011514032865791 at epoch 35\n"
     ]
    },
    {
     "name": "stderr",
     "output_type": "stream",
     "text": [
      "epoch 35: 100%|██████████| 442/442 [00:16<00:00, 26.64it/s]\n"
     ]
    },
    {
     "name": "stdout",
     "output_type": "stream",
     "text": [
      "RMSE: 0.7703878685920543 at epoch 36\n"
     ]
    },
    {
     "name": "stderr",
     "output_type": "stream",
     "text": [
      "epoch 36: 100%|██████████| 442/442 [00:16<00:00, 26.14it/s]\n"
     ]
    },
    {
     "name": "stdout",
     "output_type": "stream",
     "text": [
      "RMSE: 1.2451485278607215 at epoch 37\n"
     ]
    },
    {
     "name": "stderr",
     "output_type": "stream",
     "text": [
      "epoch 37: 100%|██████████| 442/442 [00:16<00:00, 26.87it/s]\n"
     ]
    },
    {
     "name": "stdout",
     "output_type": "stream",
     "text": [
      "RMSE: 0.9332580575949206 at epoch 38\n"
     ]
    },
    {
     "name": "stderr",
     "output_type": "stream",
     "text": [
      "epoch 38: 100%|██████████| 442/442 [00:16<00:00, 26.97it/s]\n"
     ]
    },
    {
     "name": "stdout",
     "output_type": "stream",
     "text": [
      "RMSE: 0.9395814944699116 at epoch 39\n"
     ]
    },
    {
     "name": "stderr",
     "output_type": "stream",
     "text": [
      "epoch 39: 100%|██████████| 442/442 [00:16<00:00, 26.78it/s]\n"
     ]
    },
    {
     "name": "stdout",
     "output_type": "stream",
     "text": [
      "RMSE: 1.3913587602143522 at epoch 40\n"
     ]
    },
    {
     "name": "stderr",
     "output_type": "stream",
     "text": [
      "epoch 40: 100%|██████████| 442/442 [00:16<00:00, 26.54it/s]\n"
     ]
    },
    {
     "name": "stdout",
     "output_type": "stream",
     "text": [
      "RMSE: 0.7083518344090434 at epoch 41\n"
     ]
    },
    {
     "name": "stderr",
     "output_type": "stream",
     "text": [
      "epoch 41: 100%|██████████| 442/442 [00:16<00:00, 26.84it/s]\n"
     ]
    },
    {
     "name": "stdout",
     "output_type": "stream",
     "text": [
      "RMSE: 0.6274154011066335 at epoch 42\n"
     ]
    },
    {
     "name": "stderr",
     "output_type": "stream",
     "text": [
      "epoch 42: 100%|██████████| 442/442 [00:16<00:00, 27.19it/s]\n"
     ]
    },
    {
     "name": "stdout",
     "output_type": "stream",
     "text": [
      "RMSE: 0.5841222733766287 at epoch 43\n"
     ]
    },
    {
     "name": "stderr",
     "output_type": "stream",
     "text": [
      "epoch 43: 100%|██████████| 442/442 [00:16<00:00, 27.17it/s]\n"
     ]
    },
    {
     "name": "stdout",
     "output_type": "stream",
     "text": [
      "RMSE: 0.7378869674813192 at epoch 44\n"
     ]
    },
    {
     "name": "stderr",
     "output_type": "stream",
     "text": [
      "epoch 44: 100%|██████████| 442/442 [00:16<00:00, 26.75it/s]\n"
     ]
    },
    {
     "name": "stdout",
     "output_type": "stream",
     "text": [
      "RMSE: 1.0546523373016834 at epoch 45\n"
     ]
    },
    {
     "name": "stderr",
     "output_type": "stream",
     "text": [
      "epoch 45: 100%|██████████| 442/442 [00:16<00:00, 26.55it/s]\n"
     ]
    },
    {
     "name": "stdout",
     "output_type": "stream",
     "text": [
      "RMSE: 0.8809915287829629 at epoch 46\n"
     ]
    },
    {
     "name": "stderr",
     "output_type": "stream",
     "text": [
      "epoch 46: 100%|██████████| 442/442 [00:16<00:00, 26.84it/s]\n"
     ]
    },
    {
     "name": "stdout",
     "output_type": "stream",
     "text": [
      "RMSE: 1.0453446327993081 at epoch 47\n"
     ]
    },
    {
     "name": "stderr",
     "output_type": "stream",
     "text": [
      "epoch 47: 100%|██████████| 442/442 [00:16<00:00, 26.87it/s]\n"
     ]
    },
    {
     "name": "stdout",
     "output_type": "stream",
     "text": [
      "RMSE: 0.7916499062958458 at epoch 48\n"
     ]
    },
    {
     "name": "stderr",
     "output_type": "stream",
     "text": [
      "epoch 48: 100%|██████████| 442/442 [00:16<00:00, 26.30it/s]\n"
     ]
    },
    {
     "name": "stdout",
     "output_type": "stream",
     "text": [
      "RMSE: 0.9599279053568147 at epoch 49\n"
     ]
    },
    {
     "name": "stderr",
     "output_type": "stream",
     "text": [
      "epoch 49: 100%|██████████| 442/442 [00:16<00:00, 27.24it/s]\n"
     ]
    },
    {
     "name": "stdout",
     "output_type": "stream",
     "text": [
      "RMSE: 0.5757114034214689 at epoch 50\n"
     ]
    },
    {
     "name": "stderr",
     "output_type": "stream",
     "text": [
      "epoch 50: 100%|██████████| 442/442 [00:17<00:00, 25.73it/s]\n"
     ]
    },
    {
     "name": "stdout",
     "output_type": "stream",
     "text": [
      "RMSE: 0.5719797677594074 at epoch 51\n"
     ]
    },
    {
     "name": "stderr",
     "output_type": "stream",
     "text": [
      "epoch 51: 100%|██████████| 442/442 [00:16<00:00, 27.12it/s]\n"
     ]
    },
    {
     "name": "stdout",
     "output_type": "stream",
     "text": [
      "RMSE: 0.5620439368856072 at epoch 52\n"
     ]
    },
    {
     "name": "stderr",
     "output_type": "stream",
     "text": [
      "epoch 52: 100%|██████████| 442/442 [00:15<00:00, 27.67it/s]\n"
     ]
    },
    {
     "name": "stdout",
     "output_type": "stream",
     "text": [
      "RMSE: 0.5581026082883808 at epoch 53\n"
     ]
    },
    {
     "name": "stderr",
     "output_type": "stream",
     "text": [
      "epoch 53: 100%|██████████| 442/442 [00:16<00:00, 27.19it/s]\n"
     ]
    },
    {
     "name": "stdout",
     "output_type": "stream",
     "text": [
      "RMSE: 0.5549664756010663 at epoch 54\n"
     ]
    },
    {
     "name": "stderr",
     "output_type": "stream",
     "text": [
      "epoch 54: 100%|██████████| 442/442 [00:16<00:00, 26.90it/s]\n"
     ]
    },
    {
     "name": "stdout",
     "output_type": "stream",
     "text": [
      "RMSE: 0.548026777710352 at epoch 55\n"
     ]
    },
    {
     "name": "stderr",
     "output_type": "stream",
     "text": [
      "epoch 55: 100%|██████████| 442/442 [00:15<00:00, 27.72it/s]\n"
     ]
    },
    {
     "name": "stdout",
     "output_type": "stream",
     "text": [
      "RMSE: 0.5498600395867311 at epoch 56\n"
     ]
    },
    {
     "name": "stderr",
     "output_type": "stream",
     "text": [
      "epoch 56: 100%|██████████| 442/442 [00:15<00:00, 28.13it/s]\n"
     ]
    },
    {
     "name": "stdout",
     "output_type": "stream",
     "text": [
      "RMSE: 0.5466613830135534 at epoch 57\n"
     ]
    },
    {
     "name": "stderr",
     "output_type": "stream",
     "text": [
      "epoch 57: 100%|██████████| 442/442 [00:15<00:00, 28.69it/s]\n"
     ]
    },
    {
     "name": "stdout",
     "output_type": "stream",
     "text": [
      "RMSE: 0.545958108790662 at epoch 58\n"
     ]
    },
    {
     "name": "stderr",
     "output_type": "stream",
     "text": [
      "epoch 58: 100%|██████████| 442/442 [00:14<00:00, 29.48it/s]\n"
     ]
    },
    {
     "name": "stdout",
     "output_type": "stream",
     "text": [
      "RMSE: 0.5440918334810315 at epoch 59\n"
     ]
    },
    {
     "name": "stderr",
     "output_type": "stream",
     "text": [
      "epoch 59: 100%|██████████| 442/442 [00:15<00:00, 27.73it/s]\n"
     ]
    },
    {
     "name": "stdout",
     "output_type": "stream",
     "text": [
      "RMSE: 0.5428712246749068 at epoch 60\n"
     ]
    },
    {
     "name": "stderr",
     "output_type": "stream",
     "text": [
      "epoch 60: 100%|██████████| 442/442 [00:16<00:00, 27.32it/s]\n"
     ]
    },
    {
     "name": "stdout",
     "output_type": "stream",
     "text": [
      "RMSE: 0.5416378287632302 at epoch 61\n"
     ]
    },
    {
     "name": "stderr",
     "output_type": "stream",
     "text": [
      "epoch 61: 100%|██████████| 442/442 [00:15<00:00, 27.92it/s]\n"
     ]
    },
    {
     "name": "stdout",
     "output_type": "stream",
     "text": [
      "RMSE: 0.5405016685108109 at epoch 62\n"
     ]
    },
    {
     "name": "stderr",
     "output_type": "stream",
     "text": [
      "epoch 62: 100%|██████████| 442/442 [00:16<00:00, 27.51it/s]\n"
     ]
    },
    {
     "name": "stdout",
     "output_type": "stream",
     "text": [
      "RMSE: 0.5394546546894233 at epoch 63\n"
     ]
    },
    {
     "name": "stderr",
     "output_type": "stream",
     "text": [
      "epoch 63: 100%|██████████| 442/442 [00:15<00:00, 28.70it/s]\n"
     ]
    },
    {
     "name": "stdout",
     "output_type": "stream",
     "text": [
      "RMSE: 0.5384592219859087 at epoch 64\n"
     ]
    },
    {
     "name": "stderr",
     "output_type": "stream",
     "text": [
      "epoch 64:  88%|████████▊ | 390/442 [00:13<00:01, 28.59it/s]\n"
     ]
    },
    {
     "ename": "KeyboardInterrupt",
     "evalue": "",
     "output_type": "error",
     "traceback": [
      "\u001b[0;31m---------------------------------------------------------------------------\u001b[0m",
      "\u001b[0;31mKeyboardInterrupt\u001b[0m                         Traceback (most recent call last)",
      "Cell \u001b[0;32mIn[66], line 41\u001b[0m\n\u001b[1;32m     38\u001b[0m loss \u001b[38;5;241m=\u001b[39m (mse(predicted_energies, true_energies) \u001b[38;5;241m/\u001b[39m num_atoms\u001b[38;5;241m.\u001b[39msqrt())\u001b[38;5;241m.\u001b[39mmean()\n\u001b[1;32m     40\u001b[0m AdamW\u001b[38;5;241m.\u001b[39mzero_grad()\n\u001b[0;32m---> 41\u001b[0m \u001b[43mloss\u001b[49m\u001b[38;5;241;43m.\u001b[39;49m\u001b[43mbackward\u001b[49m\u001b[43m(\u001b[49m\u001b[43m)\u001b[49m\n\u001b[1;32m     42\u001b[0m AdamW\u001b[38;5;241m.\u001b[39mstep()\n\u001b[1;32m     44\u001b[0m \u001b[38;5;66;03m# write current batch loss to TensorBoard\u001b[39;00m\n",
      "File \u001b[0;32m~/miniconda3/envs/gfn-energy/lib/python3.11/site-packages/torch/_tensor.py:522\u001b[0m, in \u001b[0;36mTensor.backward\u001b[0;34m(self, gradient, retain_graph, create_graph, inputs)\u001b[0m\n\u001b[1;32m    512\u001b[0m \u001b[38;5;28;01mif\u001b[39;00m has_torch_function_unary(\u001b[38;5;28mself\u001b[39m):\n\u001b[1;32m    513\u001b[0m     \u001b[38;5;28;01mreturn\u001b[39;00m handle_torch_function(\n\u001b[1;32m    514\u001b[0m         Tensor\u001b[38;5;241m.\u001b[39mbackward,\n\u001b[1;32m    515\u001b[0m         (\u001b[38;5;28mself\u001b[39m,),\n\u001b[0;32m   (...)\u001b[0m\n\u001b[1;32m    520\u001b[0m         inputs\u001b[38;5;241m=\u001b[39minputs,\n\u001b[1;32m    521\u001b[0m     )\n\u001b[0;32m--> 522\u001b[0m \u001b[43mtorch\u001b[49m\u001b[38;5;241;43m.\u001b[39;49m\u001b[43mautograd\u001b[49m\u001b[38;5;241;43m.\u001b[39;49m\u001b[43mbackward\u001b[49m\u001b[43m(\u001b[49m\n\u001b[1;32m    523\u001b[0m \u001b[43m    \u001b[49m\u001b[38;5;28;43mself\u001b[39;49m\u001b[43m,\u001b[49m\u001b[43m \u001b[49m\u001b[43mgradient\u001b[49m\u001b[43m,\u001b[49m\u001b[43m \u001b[49m\u001b[43mretain_graph\u001b[49m\u001b[43m,\u001b[49m\u001b[43m \u001b[49m\u001b[43mcreate_graph\u001b[49m\u001b[43m,\u001b[49m\u001b[43m \u001b[49m\u001b[43minputs\u001b[49m\u001b[38;5;241;43m=\u001b[39;49m\u001b[43minputs\u001b[49m\n\u001b[1;32m    524\u001b[0m \u001b[43m\u001b[49m\u001b[43m)\u001b[49m\n",
      "File \u001b[0;32m~/miniconda3/envs/gfn-energy/lib/python3.11/site-packages/torch/autograd/__init__.py:266\u001b[0m, in \u001b[0;36mbackward\u001b[0;34m(tensors, grad_tensors, retain_graph, create_graph, grad_variables, inputs)\u001b[0m\n\u001b[1;32m    261\u001b[0m     retain_graph \u001b[38;5;241m=\u001b[39m create_graph\n\u001b[1;32m    263\u001b[0m \u001b[38;5;66;03m# The reason we repeat the same comment below is that\u001b[39;00m\n\u001b[1;32m    264\u001b[0m \u001b[38;5;66;03m# some Python versions print out the first line of a multi-line function\u001b[39;00m\n\u001b[1;32m    265\u001b[0m \u001b[38;5;66;03m# calls in the traceback and some print out the last line\u001b[39;00m\n\u001b[0;32m--> 266\u001b[0m \u001b[43mVariable\u001b[49m\u001b[38;5;241;43m.\u001b[39;49m\u001b[43m_execution_engine\u001b[49m\u001b[38;5;241;43m.\u001b[39;49m\u001b[43mrun_backward\u001b[49m\u001b[43m(\u001b[49m\u001b[43m  \u001b[49m\u001b[38;5;66;43;03m# Calls into the C++ engine to run the backward pass\u001b[39;49;00m\n\u001b[1;32m    267\u001b[0m \u001b[43m    \u001b[49m\u001b[43mtensors\u001b[49m\u001b[43m,\u001b[49m\n\u001b[1;32m    268\u001b[0m \u001b[43m    \u001b[49m\u001b[43mgrad_tensors_\u001b[49m\u001b[43m,\u001b[49m\n\u001b[1;32m    269\u001b[0m \u001b[43m    \u001b[49m\u001b[43mretain_graph\u001b[49m\u001b[43m,\u001b[49m\n\u001b[1;32m    270\u001b[0m \u001b[43m    \u001b[49m\u001b[43mcreate_graph\u001b[49m\u001b[43m,\u001b[49m\n\u001b[1;32m    271\u001b[0m \u001b[43m    \u001b[49m\u001b[43minputs\u001b[49m\u001b[43m,\u001b[49m\n\u001b[1;32m    272\u001b[0m \u001b[43m    \u001b[49m\u001b[43mallow_unreachable\u001b[49m\u001b[38;5;241;43m=\u001b[39;49m\u001b[38;5;28;43;01mTrue\u001b[39;49;00m\u001b[43m,\u001b[49m\n\u001b[1;32m    273\u001b[0m \u001b[43m    \u001b[49m\u001b[43maccumulate_grad\u001b[49m\u001b[38;5;241;43m=\u001b[39;49m\u001b[38;5;28;43;01mTrue\u001b[39;49;00m\u001b[43m,\u001b[49m\n\u001b[1;32m    274\u001b[0m \u001b[43m\u001b[49m\u001b[43m)\u001b[49m\n",
      "\u001b[0;31mKeyboardInterrupt\u001b[0m: "
     ]
    }
   ],
   "source": [
    "mse = torch.nn.MSELoss(reduction='none')\n",
    "\n",
    "print(\"training starting from epoch\", AdamW_scheduler.last_epoch + 1)\n",
    "max_epochs = 150\n",
    "early_stopping_learning_rate = 5E-6\n",
    "best_model_checkpoint = 'best.pt'\n",
    "\n",
    "for _ in range(AdamW_scheduler.last_epoch + 1, max_epochs):\n",
    "    rmse = validate()\n",
    "    print('RMSE:', rmse, 'at epoch', AdamW_scheduler.last_epoch + 1)\n",
    "\n",
    "    learning_rate = AdamW.param_groups[0]['lr']\n",
    "\n",
    "    if learning_rate < early_stopping_learning_rate:\n",
    "        break\n",
    "\n",
    "    # checkpoint\n",
    "    if AdamW_scheduler.is_better(rmse, AdamW_scheduler.best):\n",
    "        torch.save(nn.state_dict(), best_model_checkpoint)\n",
    "\n",
    "    AdamW_scheduler.step(rmse)\n",
    "\n",
    "    tensorboard.add_scalar('validation_rmse', rmse, AdamW_scheduler.last_epoch)\n",
    "    tensorboard.add_scalar('best_validation_rmse', AdamW_scheduler.best, AdamW_scheduler.last_epoch)\n",
    "    tensorboard.add_scalar('learning_rate', learning_rate, AdamW_scheduler.last_epoch)\n",
    "\n",
    "    for i, properties in tqdm.tqdm(\n",
    "        enumerate(training),\n",
    "        total=len(training),\n",
    "        desc=\"epoch {}\".format(AdamW_scheduler.last_epoch)\n",
    "    ):\n",
    "        species = properties['species'].to(device)\n",
    "        coordinates = properties['coordinates'].to(device).float()\n",
    "        true_energies = properties['energies'].to(device).float()\n",
    "        num_atoms = (species >= 0).sum(dim=1, dtype=true_energies.dtype)\n",
    "        _, predicted_energies = model((species, coordinates))\n",
    "\n",
    "        loss = (mse(predicted_energies, true_energies) / num_atoms.sqrt()).mean()\n",
    "\n",
    "        AdamW.zero_grad()\n",
    "        loss.backward()\n",
    "        AdamW.step()\n",
    "\n",
    "        # write current batch loss to TensorBoard\n",
    "        tensorboard.add_scalar('batch_loss', loss, AdamW_scheduler.last_epoch * len(training) + i)\n",
    "\n",
    "    torch.save({\n",
    "        'nn': nn.state_dict(),\n",
    "        'AdamW': AdamW.state_dict(),\n",
    "        'AdamW_scheduler': AdamW_scheduler.state_dict(),\n",
    "    }, latest_checkpoint)"
   ]
  },
  {
   "cell_type": "code",
   "execution_count": null,
   "metadata": {},
   "outputs": [],
   "source": []
  }
 ],
 "metadata": {
  "kernelspec": {
   "display_name": "free-flow",
   "language": "python",
   "name": "python3"
  },
  "language_info": {
   "codemirror_mode": {
    "name": "ipython",
    "version": 3
   },
   "file_extension": ".py",
   "mimetype": "text/x-python",
   "name": "python",
   "nbconvert_exporter": "python",
   "pygments_lexer": "ipython3",
   "version": "3.11.9"
  }
 },
 "nbformat": 4,
 "nbformat_minor": 2
}

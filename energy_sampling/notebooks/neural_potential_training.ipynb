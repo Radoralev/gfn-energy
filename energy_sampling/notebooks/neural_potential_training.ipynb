{
 "cells": [
  {
   "cell_type": "code",
   "execution_count": 1,
   "metadata": {},
   "outputs": [],
   "source": [
    "%load_ext autoreload\n",
    "%autoreload 2\n",
    "from torch_geometric.data import Data, Batch\n",
    "from ogb.utils.features import (atom_to_feature_vector,\n",
    " bond_to_feature_vector) \n",
    "from rdkit import Chem\n",
    "from rdkit.Chem import rdDetermineBonds\n",
    "import numpy as np\n",
    "import torch\n",
    "import os \n",
    "import sys"
   ]
  },
  {
   "cell_type": "code",
   "execution_count": 2,
   "metadata": {},
   "outputs": [],
   "source": [
    "def get_mol_objects(filename):\n",
    "    mol_list = []\n",
    "    energy_list = []\n",
    "   # energies = \n",
    "    with open(filename, \"r\") as f:\n",
    "        lines = f.readlines()\n",
    "        file_str  = \"\".join(lines)\n",
    "        atom_num = lines[0]\n",
    "    xyz_list = file_str.split(atom_num)[1:]\n",
    "    for i in range(len(xyz_list)):\n",
    "        x = Chem.MolFromXYZBlock(f'{atom_num.strip()}\\n' + xyz_list[i])\n",
    "        Chem.rdDetermineBonds.DetermineConnectivity(x)\n",
    "        energy = float(xyz_list[i].split('\\n')[0].strip())\n",
    "        energy_list.append(energy)\n",
    "        mol_list.append(x)\n",
    "    return mol_list, energy_list"
   ]
  },
  {
   "cell_type": "code",
   "execution_count": 3,
   "metadata": {},
   "outputs": [],
   "source": [
    "import contextlib\n",
    "import os\n",
    "import re\n",
    "import subprocess\n",
    "import warnings\n",
    "\n",
    "def _get_energy(file):\n",
    "    normal_termination = False\n",
    "    with open(file) as f:\n",
    "        for l in f:\n",
    "            if \"TOTAL ENERGY\" in l:\n",
    "                try:\n",
    "                    energy = float(re.search(r\"[+-]?(?:\\d*\\.)?\\d+\", l).group())\n",
    "                except:\n",
    "                    return np.nan\n",
    "            if \"normal termination of xtb\" in l:\n",
    "                normal_termination = True\n",
    "    if normal_termination:\n",
    "        return energy\n",
    "    else:\n",
    "        return np.nan\n",
    "\n",
    "def run_gfn_xtb(\n",
    "    filepath,\n",
    "    filename,\n",
    "    gfn_version=\"gfnff\",\n",
    "    opt=False,\n",
    "    gfn_xtb_config: str = None,\n",
    "    remove_scratch=True,\n",
    "):\n",
    "    \"\"\"\n",
    "    Runs GFN_XTB/FF given a directory and either a coord file or all coord files will be run\n",
    "\n",
    "    :param filepath: Directory containing the coord file\n",
    "    :param filename: if given, the specific coord file to run\n",
    "    :param gfn_version: GFN_xtb version (default is 2)\n",
    "    :param opt: optimization or single point (default is opt)\n",
    "    :param gfn_xtb_config: additional xtb config (default is None)\n",
    "    :param remove_scratch: remove xtb files\n",
    "    :return:\n",
    "    \"\"\"\n",
    "    xyz_file = os.path.join(filepath, filename)\n",
    "\n",
    "    # optimization vs single point\n",
    "    if opt:\n",
    "        opt = \"--opt\"\n",
    "    else:\n",
    "        opt = \"\"\n",
    "\n",
    "    # cd to filepath\n",
    "    starting_dir = os.getcwd()\n",
    "    os.chdir(filepath)\n",
    "\n",
    "    file_name = str(xyz_file.split(\".\")[0])\n",
    "    cmd = \"xtb --{} {} {} {}\".format(\n",
    "        str(gfn_version), xyz_file, opt, str(gfn_xtb_config or \"\")\n",
    "    )\n",
    "\n",
    "    # run XTB\n",
    "    with open(file_name + \".out\", \"w\") as fd:\n",
    "        subprocess.run(cmd, shell=True, stdout=fd, stderr=subprocess.STDOUT)\n",
    "\n",
    "    # check XTB results\n",
    "    if os.path.isfile(os.path.join(filepath, \"NOT_CONVERGED\")):\n",
    "        # optimization not converged\n",
    "        warnings.warn(\n",
    "            \"xtb --{} for {} is not converged, using last optimized step instead; proceed with caution\".format(\n",
    "                str(gfn_version), file_name\n",
    "            )\n",
    "        )\n",
    "\n",
    "        # remove files\n",
    "        if remove_scratch:\n",
    "            os.remove(os.path.join(filepath, \"NOT_CONVERGED\"))\n",
    "            os.remove(os.path.join(filepath, \"xtblast.xyz\"))\n",
    "            os.remove(os.path.join(filepath, file_name + \".out\"))\n",
    "        energy = np.nan\n",
    "\n",
    "    elif opt and not os.path.isfile(os.path.join(filepath, \"xtbopt.xyz\")):\n",
    "        # other abnormal optimization convergence\n",
    "        warnings.warn(\n",
    "            \"xtb --{} for {} abnormal termination, likely scf issues, using initial geometry instead; proceed with caution\".format(\n",
    "                str(gfn_version), file_name\n",
    "            )\n",
    "        )\n",
    "        if remove_scratch:\n",
    "            os.remove(os.path.join(filepath, file_name + \".out\"))\n",
    "        energy = np.nan\n",
    "\n",
    "    else:\n",
    "        # normal convergence\n",
    "        # get energy\n",
    "        energy = _get_energy(file_name + \".out\")\n",
    "        if remove_scratch:\n",
    "            with contextlib.suppress(FileNotFoundError):\n",
    "                os.remove(os.path.join(filepath, file_name + \".out\"))\n",
    "                os.remove(os.path.join(filepath, \"gfnff_charges\"))\n",
    "                os.remove(os.path.join(filepath, \"gfnff_adjacency\"))\n",
    "                os.remove(os.path.join(filepath, \"gfnff_topo\"))\n",
    "                os.remove(os.path.join(filepath, \"xtbopt.log\"))\n",
    "                os.remove(os.path.join(filepath, \"xtbopt.xyz\"))\n",
    "                os.remove(os.path.join(filepath, \"xtbtopo.mol\"))\n",
    "                os.remove(os.path.join(filepath, \"wbo\"))\n",
    "                os.remove(os.path.join(filepath, \"charges\"))\n",
    "                os.remove(os.path.join(filepath, \"xtbrestart\"))\n",
    "    os.chdir(starting_dir)\n",
    "    return energy"
   ]
  },
  {
   "cell_type": "code",
   "execution_count": 4,
   "metadata": {},
   "outputs": [
    {
     "data": {
      "text/plain": [
       "'/home/radoslavralev/Documents/Thesis/gfn-diffusion/energy_sampling/notebooks/conformers/molecule_0/vacuum'"
      ]
     },
     "execution_count": 4,
     "metadata": {},
     "output_type": "execute_result"
    }
   ],
   "source": [
    "def get_mol_path(mol_idx, solvation=False):\n",
    "    if solvation:\n",
    "        return os.path.join(os.getcwd(), 'conformers', f'molecule_{mol_idx}', 'solvation')\n",
    "    else:\n",
    "        return os.path.join(os.getcwd(), 'conformers', f'molecule_{mol_idx}', 'vacuum')\n",
    "get_mol_path(0)"
   ]
  },
  {
   "cell_type": "code",
   "execution_count": 5,
   "metadata": {},
   "outputs": [
    {
     "data": {
      "text/plain": [
       "torch.Size([32, 23, 3])"
      ]
     },
     "execution_count": 5,
     "metadata": {},
     "output_type": "execute_result"
    }
   ],
   "source": [
    "torch.ones(32, 69).reshape(-1, 23, 3).shape"
   ]
  },
  {
   "cell_type": "code",
   "execution_count": 6,
   "metadata": {},
   "outputs": [],
   "source": [
    "def xyz_mol2graph(xyz_mol):\n",
    "    \"\"\"\n",
    "    Converts SMILES string to graph Data object\n",
    "    :input: SMILES string (str)\n",
    "    :return: graph object\n",
    "    \"\"\"\n",
    "\n",
    "    mol = xyz_mol\n",
    "    pos = mol.GetConformer().GetPositions()\n",
    "    mol = Chem.AddHs(mol)\n",
    "    #print(mol)\n",
    "    # atoms\n",
    "    atom_features_list = []\n",
    "    for atom in mol.GetAtoms():\n",
    "        atom_features_list.append([atom.GetAtomicNum()])\n",
    "    x = np.array(atom_features_list, dtype = np.int64)\n",
    "\n",
    "    # bonds\n",
    "    num_bond_features = 3  # bond type, bond stereo, is_conjugated\n",
    "    if len(mol.GetBonds()) > 0: # mol has bonds\n",
    "        edges_list = []\n",
    "        edge_features_list = []\n",
    "        for bond in mol.GetBonds():\n",
    "            i = bond.GetBeginAtomIdx()\n",
    "            j = bond.GetEndAtomIdx()\n",
    "\n",
    "            edge_feature = bond_to_feature_vector(bond)\n",
    "\n",
    "            # add edges in both directions\n",
    "            edges_list.append((i, j))\n",
    "            edge_features_list.append(edge_feature)\n",
    "            edges_list.append((j, i))\n",
    "            edge_features_list.append(edge_feature)\n",
    "\n",
    "        # data.edge_index: Graph connectivity in COO format with shape [2, num_edges]\n",
    "        edge_index = np.array(edges_list, dtype = np.int64).T\n",
    "\n",
    "        # data.edge_attr: Edge feature matrix with shape [num_edges, num_edge_features]\n",
    "        edge_attr = np.array(edge_features_list, dtype = np.int64)\n",
    "\n",
    "    else:   # mol has no bonds\n",
    "        print('Mol has no bonds :()')\n",
    "        edge_index = np.empty((2, 0), dtype = np.int64)\n",
    "        edge_attr = np.empty((0, num_bond_features), dtype = np.int64)\n",
    "\n",
    "    graph = dict()\n",
    "    graph['edge_index'] = edge_index\n",
    "    graph['edge_feat'] = edge_attr\n",
    "    graph['node_feat'] = x\n",
    "    graph['pos'] = pos\n",
    "    graph['num_nodes'] = len(x)\n",
    "\n",
    "    return graph "
   ]
  },
  {
   "cell_type": "code",
   "execution_count": 7,
   "metadata": {},
   "outputs": [],
   "source": [
    "def prep_input(graph, pos=None, device=None):\n",
    "    datalist = []\n",
    "    for xyz in pos:\n",
    "        if pos is not None:\n",
    "            graph['pos'] = xyz  \n",
    "        #print('Number of atoms:', graph['node_feat'].shape[0])\n",
    "        data = Data(\n",
    "            atoms=torch.from_numpy(graph['node_feat'][:, 0]), \n",
    "            edge_index=torch.from_numpy(graph['edge_index']), \n",
    "            edge_attr=torch.from_numpy(graph['edge_feat']), \n",
    "            pos=graph['pos'],).to(device)\n",
    "        data.validate(raise_on_error=True)\n",
    "        datalist.append(data)\n",
    "    #batch = Batch.from_data_list(datalist).to(device)\n",
    "    return datalist"
   ]
  },
  {
   "cell_type": "code",
   "execution_count": 8,
   "metadata": {},
   "outputs": [],
   "source": [
    "def extract_graphs(filename):\n",
    "    mol_objects, mol_ens = get_mol_objects(filename)\n",
    "    datalist = []\n",
    "    for mol, en in zip(mol_objects, mol_ens):\n",
    "        graph = xyz_mol2graph(mol)\n",
    "        data = Data(\n",
    "            atoms=torch.from_numpy(graph['node_feat'][:, 0]), \n",
    "            edge_index=torch.from_numpy(graph['edge_index']), \n",
    "            edge_attr=torch.from_numpy(graph['edge_feat']), \n",
    "            pos=torch.from_numpy(graph['pos']),\n",
    "            y=torch.tensor(en))\n",
    "        data.validate(raise_on_error=True)\n",
    "        datalist.append(data)\n",
    "    return datalist"
   ]
  },
  {
   "cell_type": "code",
   "execution_count": 9,
   "metadata": {},
   "outputs": [
    {
     "name": "stdout",
     "output_type": "stream",
     "text": [
      "-5.070985140121123\n",
      "-2.717450109829989\n",
      "-0.7029199965511594\n",
      "-1.9523127350697063\n",
      "-0.700240312316485\n",
      "-3.3073722504625738\n",
      "-0.003604080517829243\n",
      "-0.0033940972884697737\n",
      "-1.7962577726122022\n",
      "-2.7146895664696427\n",
      "-3.6762836631174647\n"
     ]
    }
   ],
   "source": [
    "# calculate free energy for all pairs of conformers\n",
    "\n",
    "def solvation_en(index=0):\n",
    "    solvent_dir = os.path.join('../..', 'conformation_sampling', 'conformers', f'molecule_{index}', 'solvation', 'crest_conformers.xyz')\n",
    "    vacuum_dir = os.path.join('../..', 'conformation_sampling', 'conformers', f'molecule_{index}', 'vacuum', 'crest_conformers.xyz')\n",
    "    _, solv_en = get_mol_objects(solvent_dir)\n",
    "    _, vac_en = get_mol_objects(vacuum_dir)\n",
    "    #print(solv_en, vac_en)\n",
    "    # avg_solv_en = np.mean(np.exp(np.array(solv_en)))\n",
    "    # avg_vac_en = np.mean(np.exp(np.array(vac_en))) \n",
    "    # free_en = avg_vac_en - avg_solv_en\n",
    "    l = min(len(solv_en), len(vac_en))\n",
    "    free_en = -1/627.583*np.logaddexp.reduce(-(np.array(solv_en[:l])-np.array(vac_en[:l])) * 627.503) - np.log(l)\n",
    "    return free_en\n",
    "    \n",
    "for i in range(600):\n",
    "    free_en = solvation_en(i)\n",
    "    if free_en:\n",
    "        print(free_en)\n",
    "    if i == 10:\n",
    "        break\n",
    "    \n",
    "    "
   ]
  },
  {
   "cell_type": "code",
   "execution_count": 10,
   "metadata": {},
   "outputs": [],
   "source": [
    "solvent_data = []\n",
    "vacuum_data = []\n",
    "for dir in os.listdir(os.path.join(os.getcwd(),'..', '..', 'conformation_sampling', 'conformers')):\n",
    "    solvent_dir = os.path.join(os.getcwd(), '..', '..','conformation_sampling', 'conformers', dir, 'solvation', 'crest_conformers.xyz')\n",
    "    vacuum_dir = os.path.join(os.getcwd(),'..', '..','conformation_sampling', 'conformers', dir, 'vacuum', 'crest_conformers.xyz')\n",
    "    solvent_graphs = extract_graphs(solvent_dir)\n",
    "    vacuum_graphs = extract_graphs(vacuum_dir)\n",
    "    solvent_data.extend(solvent_graphs)\n",
    "    vacuum_data.extend(vacuum_graphs)\n",
    "    # break"
   ]
  },
  {
   "cell_type": "code",
   "execution_count": 11,
   "metadata": {},
   "outputs": [
    {
     "data": {
      "text/plain": [
       "11365"
      ]
     },
     "execution_count": 11,
     "metadata": {},
     "output_type": "execute_result"
    }
   ],
   "source": [
    "len(solvent_data[:11365])"
   ]
  },
  {
   "cell_type": "code",
   "execution_count": 12,
   "metadata": {},
   "outputs": [
    {
     "name": "stdout",
     "output_type": "stream",
     "text": [
      "0 tensor(8)\n",
      "684 tensor(17)\n",
      "689 tensor(53)\n"
     ]
    }
   ],
   "source": [
    "# find max number of atoms in a molecule\n",
    "max_atomic_el = 0\n",
    "for i, data in enumerate(solvent_data):\n",
    "    if data.atoms.max() > max_atomic_el:\n",
    "        max_atomic_el = data.atoms.max()\n",
    "        print(i, max_atomic_el)"
   ]
  },
  {
   "cell_type": "code",
   "execution_count": 13,
   "metadata": {},
   "outputs": [],
   "source": [
    "from torch_geometric import loader\n",
    "\n",
    "train_dataloade_solv = loader.DataLoader(solvent_data[5000:], batch_size=32, shuffle=True)\n",
    "train_dataloade_vac = loader.DataLoader(vacuum_data[5000:], batch_size=32, shuffle=True)\n",
    "test_dataloade_solv = loader.DataLoader(solvent_data[:5000], batch_size=32, shuffle=True)\n",
    "test_dataloade_vac = loader.DataLoader(vacuum_data[:5000], batch_size=32, shuffle=True)"
   ]
  },
  {
   "cell_type": "code",
   "execution_count": 14,
   "metadata": {},
   "outputs": [
    {
     "name": "stdout",
     "output_type": "stream",
     "text": [
      "DataBatch(edge_index=[2, 1892], edge_attr=[1892, 3], y=[32], pos=[970, 3], atoms=[970], batch=[970], ptr=[33])\n"
     ]
    }
   ],
   "source": [
    "for data in train_dataloade_solv:\n",
    "    print(data)\n",
    "    break"
   ]
  },
  {
   "cell_type": "code",
   "execution_count": 15,
   "metadata": {},
   "outputs": [],
   "source": [
    "import matplotlib.pyplot as plt\n",
    "from IPython.display import display, clear_output\n",
    "from tqdm.notebook import tqdm\n",
    "import time\n",
    "\n",
    "def update_plot(losses):\n",
    "    plt.figure(figsize=(10, 5))\n",
    "    plt.plot(losses, label='Loss')\n",
    "    plt.yscale('log')\n",
    "    plt.xlabel('Batch')\n",
    "    plt.ylabel('Loss')\n",
    "    plt.title('Training Loss')\n",
    "    plt.legend()\n",
    "    plt.grid(True)\n",
    "    clear_output(wait=True)\n",
    "    display(plt.gcf())\n",
    "    plt.close()  # Close the figure to prevent it from being displayed again"
   ]
  },
  {
   "cell_type": "code",
   "execution_count": 16,
   "metadata": {},
   "outputs": [],
   "source": [
    "def train_model(model_type, in_dim, out_dim, emb_dim, num_layers, lr, epochs, dataloader, device, patience):\n",
    "    sys.path.append(os.path.abspath(os.path.join(os.getcwd(), os.pardir)))\n",
    "    from models.egnn import EGNNModel\n",
    "    from models.mace import MACEModel\n",
    "    import torch\n",
    "    from tqdm import tqdm\n",
    "    import numpy as np\n",
    "\n",
    "    # Define the model\n",
    "    if model_type == 'mace':\n",
    "        model = MACEModel(in_dim=in_dim, out_dim=out_dim, emb_dim=emb_dim, num_layers=num_layers, equivariant_pred=False, batch_norm=False).to(device, dtype=torch.float64)\n",
    "    elif model_type == 'egnn':\n",
    "        model = EGNNModel(in_dim=in_dim, out_dim=out_dim, emb_dim=emb_dim, num_layers=num_layers, equivariant_pred=False).to(device, dtype=torch.float64)\n",
    "    else:\n",
    "        raise ValueError(\"Invalid model type. Choose either 'mace' or 'egnn'.\")\n",
    "\n",
    "    optimizer = torch.optim.Adam(model.parameters(), lr=lr)\n",
    "    criterion = torch.nn.MSELoss()\n",
    "    scheduler = torch.optim.lr_scheduler.ReduceLROnPlateau(optimizer, mode='min', patience=patience//2, factor=0.5, verbose=True)\n",
    "    all_losses = []\n",
    "    best_loss = np.inf\n",
    "    best_epoch = 0\n",
    "    best_model_state = None\n",
    "    patience_counter = 0\n",
    "\n",
    "    for epoch in range(epochs):\n",
    "        running_loss = 0.0\n",
    "        with tqdm(dataloader, unit=\"batch\") as tepoch:\n",
    "            for x in tepoch:\n",
    "                tepoch.set_description(f\"Epoch {epoch+1}\")\n",
    "                x = x.to(device)\n",
    "                # Zero the parameter gradients\n",
    "                optimizer.zero_grad()\n",
    "\n",
    "                # Forward pass\n",
    "                outputs = model(x)\n",
    "                loss = criterion(outputs.squeeze(), x.y.to(torch.float64).squeeze())\n",
    "\n",
    "                # Backward pass and optimize\n",
    "                loss.backward()\n",
    "                optimizer.step()\n",
    "\n",
    "                # Update running loss\n",
    "                running_loss += loss.item()\n",
    "                all_losses.append(loss.item())\n",
    "\n",
    "                if len(all_losses) % int((len(dataloader)/4)) == 0:\n",
    "                    update_plot(all_losses[200:])\n",
    "\n",
    "                tepoch.set_postfix(loss=loss.item() * 627.503)\n",
    "\n",
    "        # Calculate average loss for the epoch\n",
    "        avg_loss = running_loss / len(dataloader)\n",
    "        print(f\"Epoch {epoch+1}, Loss: {avg_loss}\")\n",
    "\n",
    "        # Step the scheduler\n",
    "        scheduler.step(avg_loss)\n",
    "\n",
    "        # Check for early stopping\n",
    "        if avg_loss < best_loss:\n",
    "            best_loss = avg_loss\n",
    "            best_epoch = epoch\n",
    "            best_model_state = model.state_dict()\n",
    "            patience_counter = 0\n",
    "        else:\n",
    "            patience_counter += 1\n",
    "\n",
    "        if patience_counter >= patience:\n",
    "            print(f\"Early stopping at epoch {epoch+1}\")\n",
    "            break\n",
    "\n",
    "    # Load the best model state\n",
    "    if best_model_state is not None:\n",
    "        model.load_state_dict(best_model_state)\n",
    "        print(f\"Best model from epoch {best_epoch+1} with loss {best_loss}\")\n",
    "\n",
    "    return model, all_losses\n",
    "def eval_model(model, dataloader, device):\n",
    "    model.eval()\n",
    "    criterion = torch.nn.MSELoss()\n",
    "    running_loss = 0.0\n",
    "    with torch.no_grad():\n",
    "        for x in dataloader:\n",
    "            x = x.to(device)\n",
    "            outputs = model(x)\n",
    "            loss = criterion(outputs.squeeze(), x.y.to(torch.float64).squeeze())\n",
    "            running_loss += loss.item()\n",
    "    return running_loss/len(dataloader)"
   ]
  },
  {
   "cell_type": "code",
   "execution_count": 23,
   "metadata": {},
   "outputs": [
    {
     "data": {
      "image/png": "[encoded data removed]",
      "text/plain": [
       "<Figure size 1000x500 with 1 Axes>"
      ]
     },
     "metadata": {},
     "output_type": "display_data"
    },
    {
     "name": "stderr",
     "output_type": "stream",
     "text": [
      "Epoch 3:  55%|█████▌    | 702/1265 [00:11<00:10, 53.25batch/s, loss=6.82] "
     ]
    }
   ],
   "source": [
    "model, losses = train_model('egnn', in_dim=max_atomic_el+1, out_dim=1, emb_dim=32, num_layers=2, lr=0.001, epochs=100, dataloader=train_dataloade_solv, device='cuda', patience=6)\n",
    "update_plot(losses)\n",
    "clear_output(wait=True)"
   ]
  },
  {
   "cell_type": "code",
   "execution_count": 18,
   "metadata": {},
   "outputs": [
    {
     "data": {
      "text/plain": [
       "0.014348658987106884"
      ]
     },
     "execution_count": 18,
     "metadata": {},
     "output_type": "execute_result"
    }
   ],
   "source": [
    "eval_model(model, train_dataloade_solv, 'cuda') * 627.503"
   ]
  },
  {
   "cell_type": "code",
   "execution_count": 19,
   "metadata": {},
   "outputs": [
    {
     "data": {
      "text/plain": [
       "0.03267495242453754"
      ]
     },
     "execution_count": 19,
     "metadata": {},
     "output_type": "execute_result"
    }
   ],
   "source": [
    "eval_model(model, test_dataloade_solv, 'cuda') * 627.503"
   ]
  },
  {
   "cell_type": "code",
   "execution_count": 20,
   "metadata": {},
   "outputs": [
    {
     "data": {
      "text/plain": [
       "18243"
      ]
     },
     "execution_count": 20,
     "metadata": {},
     "output_type": "execute_result"
    }
   ],
   "source": [
    "#print number of parameters\n",
    "sum(p.numel() for p in model.parameters())"
   ]
  },
  {
   "cell_type": "code",
   "execution_count": null,
   "metadata": {},
   "outputs": [],
   "source": [
    "# save model\n",
    "torch.save(model.state_dict(), '../weights/egnn_solvation_batch_size_32.pt')"
   ]
  },
  {
   "cell_type": "code",
   "execution_count": 22,
   "metadata": {},
   "outputs": [],
   "source": [
    "# save all model parameters in a json in the same folder\n",
    "import json\n",
    "model_params = {\n",
    "    'in_dim': max_atomic_el.item()+1,\n",
    "    'out_dim': 1,\n",
    "    'emb_dim': 32,\n",
    "    'num_layers': 2,\n",
    "    'lr': 0.0001,\n",
    "    'epochs': 100,\n",
    "    'patience': 5,\n",
    "    'batch_size': 32\n",
    "}\n",
    "with open('../weights/egnn_solvation_batch_size_32.json', 'w') as f:\n",
    "    json.dump(model_params, f)"
   ]
  },
  {
   "cell_type": "code",
   "execution_count": null,
   "metadata": {},
   "outputs": [],
   "source": []
  }
 ],
 "metadata": {
  "kernelspec": {
   "display_name": "free-flow",
   "language": "python",
   "name": "python3"
  },
  "language_info": {
   "codemirror_mode": {
    "name": "ipython",
    "version": 3
   },
   "file_extension": ".py",
   "mimetype": "text/x-python",
   "name": "python",
   "nbconvert_exporter": "python",
   "pygments_lexer": "ipython3",
   "version": "3.11.6"
  }
 },
 "nbformat": 4,
 "nbformat_minor": 2
}

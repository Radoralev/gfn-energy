{
 "cells": [
  {
   "cell_type": "markdown",
   "metadata": {},
   "source": [
    "# Imports"
   ]
  },
  {
   "cell_type": "code",
   "execution_count": null,
   "metadata": {},
   "outputs": [],
   "source": [
    "import os\n",
    "import csv\n",
    "import sys \n",
    "import torch\n",
    "\n",
    "\n",
    "from openmm import unit \n",
    "from tqdm import tqdm\n",
    "\n",
    "\n",
    "sys.path.append(os.path.abspath(os.path.join(os.getcwd(), os.pardir)))\n",
    "from energies import MoleculeFromSMILES_XTB\n",
    "from utils import logmeanexp"
   ]
  },
  {
   "cell_type": "markdown",
   "metadata": {},
   "source": [
    "# Constants"
   ]
  },
  {
   "cell_type": "code",
   "execution_count": null,
   "metadata": {},
   "outputs": [],
   "source": [
    "input_file = '../database.txt'\n",
    "batch_size = 32\n",
    "kB = unit.BOLTZMANN_CONSTANT_kB.value_in_unit(unit.hartree/unit.kelvin)\n",
    "beta=1/(kB*298.15)\n",
    "hartree_to_kcal = 627.503\n",
    "T = 298.15"
   ]
  },
  {
   "cell_type": "code",
   "execution_count": null,
   "metadata": {},
   "outputs": [],
   "source": [
    "molecules_smiles = {}\n",
    "with open(input_file, 'r') as infile:\n",
    "    reader = csv.reader(infile, delimiter=';')\n",
    "    for row in reader:\n",
    "        if row[0].startswith('#'):\n",
    "            continue  # Skip header or comment lines\n",
    "        smiles = row[1]\n",
    "        experimental_val = row[3]\n",
    "        experimental_uncertainty = row[4]\n",
    "        molecules_smiles[smiles] = experimental_val, experimental_uncertainty"
   ]
  },
  {
   "cell_type": "code",
   "execution_count": null,
   "metadata": {},
   "outputs": [],
   "source": [
    "results_dict = {}"
   ]
  },
  {
   "cell_type": "code",
   "execution_count": null,
   "metadata": {},
   "outputs": [],
   "source": [
    "for k, v in molecules_smiles.items():\n",
    "    v_energy = MoleculeFromSMILES_XTB(k, temp=T, solvate=False)\n",
    "    s_energy = MoleculeFromSMILES_XTB(k, temp=T, solvate=True)\n",
    "    ground_truth = float(v[0])\n",
    "    uncertainty = float(v[1])\n",
    "\n",
    "    default_ta_vals = v_energy.rd_conf.get_freely_rotatable_tas_values()\n",
    "\n",
    "    torsions = v_energy.tas\n",
    "    if len(torsions) == 0:\n",
    "        print('No torsions found for {}'.format(k))\n",
    "        continue\n",
    "    n = 2 if len(torsions) >= 2 else len(torsions)\n",
    "    # create a linspace of 0 to 360 with 5 degree increments for each torsion in a new torch tensor\n",
    "    # mix them to get all possible permutations depending on the number of torsions\n",
    "    angles = torch.linspace(0, 360, 73)[:-1]    # flatten the tensor\n",
    "    grids = [angles] * n\n",
    "    grid = torch.meshgrid(*grids, indexing='ij')\n",
    "    cartesian_product = torch.stack(grid, dim=-1).reshape(-1, n)\n",
    "\n",
    "    # add the rest of the angles to the cartesian product from the default ta values\n",
    "    cartesian_product = torch.cat((cartesian_product, torch.tensor(default_ta_vals[n:]).unsqueeze(0).repeat(cartesian_product.shape[0], 1)), dim=1)\n",
    "    \n",
    "    # make the cartesion product in batches of 32 to avoid memory issues, discard last 32 if not divisible by 32\n",
    "    num_batches = cartesian_product.shape[0] // batch_size\n",
    "    if cartesian_product.shape[0] % batch_size != 0:\n",
    "        num_batches += 1\n",
    "    \n",
    "    # create a tensor to store the energies\n",
    "    v_energies = torch.zeros(cartesian_product.shape[0])\n",
    "    s_energies = torch.zeros(cartesian_product.shape[0])\n",
    "    for i in tqdm(range(num_batches)):\n",
    "        start = i * batch_size\n",
    "        end = min((i + 1) * batch_size, cartesian_product.shape[0])\n",
    "        batch = cartesian_product[start:end]\n",
    "        v_energies[start:end] = v_energy.energy(batch) \n",
    "        s_energies[start:end] = s_energy.energy(batch)\n",
    "\n",
    "    v_energies *= beta\n",
    "    s_energies *= beta\n",
    "\n",
    "    factor = hartree_to_kcal * kB * T \n",
    "    v_free_energy = -logmeanexp(-v_energies) * factor\n",
    "    s_free_energy = -logmeanexp(-s_energies) * factor\n",
    "\n",
    "    fed = s_free_energy - v_free_energy \n",
    "    results_dict[k] = fed, ground_truth, uncertainty\n",
    "    print('Error for {}: {}'.format(k, fed - ground_truth))\n"
   ]
  },
  {
   "cell_type": "code",
   "execution_count": null,
   "metadata": {},
   "outputs": [],
   "source": [
    "len(results_dict)"
   ]
  },
  {
   "cell_type": "code",
   "execution_count": null,
   "metadata": {},
   "outputs": [],
   "source": [
    "with open(f'../fed_results/rotation_fed_n={n}.csv', 'w') as f:\n",
    "    f.write('SMILES,experimental_val,fed_Z_learned,fed_Z,fed_Z_lb,timestamp\\n')\n",
    "    for k, v in results_dict.items():\n",
    "        f.write(f'{k},{v[1]} ± {v[2]},0 ± 0,{v[0]} ± 0,0 ± 0,23-08-2024 02-47\\n')"
   ]
  },
  {
   "cell_type": "code",
   "execution_count": null,
   "metadata": {},
   "outputs": [],
   "source": []
  }
 ],
 "metadata": {
  "kernelspec": {
   "display_name": "gfn-energy",
   "language": "python",
   "name": "python3"
  },
  "language_info": {
   "codemirror_mode": {
    "name": "ipython",
    "version": 3
   },
   "file_extension": ".py",
   "mimetype": "text/x-python",
   "name": "python",
   "nbconvert_exporter": "python",
   "pygments_lexer": "ipython3",
   "version": "3.11.9"
  }
 },
 "nbformat": 4,
 "nbformat_minor": 2
}
